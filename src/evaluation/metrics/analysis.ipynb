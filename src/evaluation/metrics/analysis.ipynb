{
 "cells": [
  {
   "cell_type": "code",
   "execution_count": 6,
   "metadata": {
    "ExecuteTime": {
     "end_time": "2023-05-17T08:10:15.620011200Z",
     "start_time": "2023-05-17T08:10:13.754012500Z"
    },
    "collapsed": false
   },
   "outputs": [],
   "source": [
    "from paraphrase_metrics import ROUGEMetric\n",
    "import pandas as pd\n",
    "import numpy as np\n",
    "import matplotlib.pyplot as vlt"
   ]
  },
  {
   "cell_type": "code",
   "execution_count": 3,
   "metadata": {
    "ExecuteTime": {
     "start_time": "2023-05-17T08:10:15.614011600Z"
    },
    "collapsed": false
   },
   "outputs": [],
   "source": [
    "datadir = \"../../../data/backtranslate/\"\n",
    "readpath = datadir + \"backtranslate.csv\"\n",
    "\n",
    "df = pd.read_csv(readpath, header=None, sep='\\t', names=['s', 'p'])\n",
    "\n",
    "sentences = df['s'].tolist()\n",
    "paraps = df['p'].tolist()"
   ]
  },
  {
   "cell_type": "code",
   "execution_count": 5,
   "metadata": {
    "collapsed": false
   },
   "outputs": [],
   "source": [
    "metric = ROUGEMetric()\n",
    "scores = metric.eval(sentences, paraps)"
   ]
  },
  {
   "cell_type": "code",
   "execution_count": 8,
   "metadata": {
    "collapsed": false
   },
   "outputs": [
    {
     "data": {
      "image/png": "[encoded data removed]",
      "text/plain": [
       "<Figure size 640x480 with 1 Axes>"
      ]
     },
     "metadata": {},
     "output_type": "display_data"
    }
   ],
   "source": [
    "vlt.hist(scores, bins=150)\n",
    "vlt.show()"
   ]
  },
  {
   "cell_type": "code",
   "execution_count": 23,
   "metadata": {},
   "outputs": [],
   "source": [
    "sentences_np = np.array(sentences)\n",
    "paraps_np = np.array(paraps)\n",
    "\n",
    "zero_ix = np.nonzero(scores == 0)\n",
    "one_ix = np.nonzero(scores == 1)\n",
    "zero_pairs = np.array([[sentences_np[zero_ix], paraps_np[zero_ix]]]).T\n",
    "one_pairs = np.array([[sentences_np[one_ix], paraps_np[one_ix]]]).T"
   ]
  },
  {
   "cell_type": "code",
   "execution_count": 24,
   "metadata": {},
   "outputs": [
    {
     "name": "stdout",
     "output_type": "stream",
     "text": [
      "Orig:  ['LJOTIČEVCI . . . . . . . . . . . . .']\n",
      "BT:  ['Ljudje.........']\n",
      "\n",
      "Orig:  ['te dvojnosti? . . . . . . . . . . . . . .']\n",
      "BT:  ['V tej dualnosti...']\n",
      "\n",
      "Orig:  ['raze sožalja, cvetje, sveče in svete maše, g. patru Luki za opravljen obr']\n",
      "BT:  ['Â Â Â Â Â Â Â Â Â Â Â Â Â Â Â Â Â Â Â']\n",
      "\n",
      "Orig:  ['Se pravi, da država ne bi mogla vzdrževati profesionalne vojske?']\n",
      "BT:  ['Ali je mogoče imeti profesionalno vojsko?']\n",
      "\n",
      "Orig:  ['# which fax number to transmit to the receiving station']\n",
      "BT:  ['# številka faksa, ki jo želite poslati sprejemni postaji']\n",
      "\n"
     ]
    }
   ],
   "source": [
    "for orig, bt in zero_pairs[:5]:\n",
    "    print(\"Orig: \", orig)\n",
    "    print(\"BT: \", bt)\n",
    "    print()"
   ]
  },
  {
   "cell_type": "code",
   "execution_count": 25,
   "metadata": {},
   "outputs": [
    {
     "name": "stdout",
     "output_type": "stream",
     "text": [
      "Orig:  ['PAOK: 4 Coldebella (30 let, 200), 5 Nikolaidis (24, 85), 6 Berry (34, 204), 8 Maslarinos (24, 192), 9 Balogiannis (28 (197), 10 Peral (24, 210), 11 King (26, 187), 12 Morales (29, 212), 13 Despos (23, 209), 15 Giannoulis (23, 208).']\n",
      "BT:  ['PAOK: 4 Coldebella (30 let, 200), 5 Nikolaidis (24, 85), 6 Berry (34, 204), 8 Maslarinos (24, 192, 9 Balogiannis (28 (197), 10 Peral (24, 210), 11 King (26, 187), 12 Morales (29, 212), 13 Despos (23, 209, 15) Giannoulis (23, 208).']\n",
      "\n",
      "Orig:  ['Pari: Savinjski Hopsi - Helios (19.30), Loka kava - Triglav (18), Kraški zidar - Pivovarna Laško (19), Krka Telekom - Zagorje (20), ZM Maribor - Slovan (20), Union Olimpija - Rogla Atras (četrtek, 19). E. B.']\n",
      "BT:  [': Pari Savinjski Hopsi - Helios (19.30), Loka kava - Triglav (18), Kraški zidar - Pivovarna Laško (19), Krka Telekom - Zagorje (20), ZM Maribor - Slovan (20), Union Olimpija - Rogla Atras (četrtek, 19). E. B.']\n",
      "\n",
      "Orig:  ['Zagovornik Borisa Popoviča, meni, da odgovorni delajo prepočasi in \"pozabljajo\", da je koprski župan v priporu']\n",
      "BT:  ['Zagovornik Borisa Popoviča, meni, da odgovorni delajo prepočasi in \"pozabljajo \", da je koprski župan v priporu']\n",
      "\n",
      "Orig:  ['Temperatura zraka včeraj ob 13. uri: Ljubljana 20, letališče Brnik 19, Slovenj Gradec 18, letališče Maribor 20, Murska Sobota 19, Novo mesto 20, letališče Portorož 24, Nova Gorica 23 in Triglav Kredarica 0 stopinj Celzija.']\n",
      "BT:  ['Temperatura zraka včeraj ob 13. uri: Ljubljana 20, letališče Brnik 19, Slovenj Gradec 18, letališče Maribor 20, Murska Sobota 19, Novo mesto 20, letališče Portorož 24, Nova Gorica 23 in Triglav Kredarica 0 stopinj Celzija.']\n",
      "\n",
      "Orig:  ['6. 1 L alkohola tehta 785 g pri 25 oC.']\n",
      "BT:  ['6,1 l alkohola tehta 785 g pri 25 oC.']\n",
      "\n"
     ]
    }
   ],
   "source": [
    "for orig, bt in one_pairs[:5]:\n",
    "    print(\"Orig: \", orig)\n",
    "    print(\"BT: \", bt)\n",
    "    print()"
   ]
  },
  {
   "cell_type": "code",
   "execution_count": 27,
   "metadata": {},
   "outputs": [
    {
     "name": "stdout",
     "output_type": "stream",
     "text": [
      "----------------------------------------\n",
      "Score:  0.1\n",
      "Orig:  ['VSAK OD OBEH SPOLOV IMA PRI VSEM TEM OBRAVNAVANEM ŽENSKEM OGLAŠANJU OZIROMA OGLAŠEVANJU TOREJ KOPICO POTENCIALNIH MOŽNOSTI; PRAV TOLIKO PA JE TEH TUDI ZA EVOLUCIONISTIČNO METABIOLOŠKO POIGRAVANJE Z RAZNIMI BOLJ OZIROMA MANJ TEHTNIMI HIPOTEZAMI ALI PA TUDI SAMO ZABAVNIMI DOMISLICAMI, KI SE IZVAJAJO PO TUKAJŠNJEM, RES ŽE KAR PRECEJ EKSCENTRIČNEM PODIJU – PRAVKAR IZPELJANA NEKAJSTRANSKA CELOSTNA OBRAVNAVA ŽENSKEGA IZRAŽANJA TEH SVOJIH SUBLIMNIH EMOCIJ MOREBITI NAMREČ NIMA PRAV NE VEM KAKO IZJEMNO TRDNE IN VSESTRANSKE ZVEZE S SICERŠNJO VSEBINO POGLAVJA, ZATO PA JE NAMESTO TE DELOMA MORDA MANJKAJOČE RELEVANTNOSTI TU DRUG, ZAME DOVOLJ TEHTEN ESTETSKI RAZLOG ZA NJENO NAVZOČNOST V PRIČUJOČIH OKVIRIH: METAFORA IZ NOSILNEGA NASLOVA TEGA POGLAVJA SE JI PRAV NEKAKO SVOJSKO PODA.']\n",
      "BT:  ['V vseh teh zadevah, vsaka ženska oglaševanje ima določeno število potencialnih; najmanj, Vendar pa, je način, na katerega so te zadeve, ki jih obravnava Evropska METAIBIOLOŠKA DEFINACIJA različnih bolezni: obstaja zelo malo tehnične HYPTESESESESESESESESESESESESESESESESESESESESESE ali način, na katerega se obravnavajo posamezni domovi otrok tukaj, ki se ne sme obravnavati z zakoni dežele, ki pa so strogo prepovedane z zakonom in z zakonom in z zakonom, in z zakonom, zakon, pravica, da tega ne stori, ki jih vse te zadeve ni, da zagotovi pravico, da stori drugače.']\n",
      "\n",
      "----------------------------------------\n",
      "Score:  0.2\n",
      "Orig:  ['- KALIJEVI IONI OBARVAJO PLAMEN MODROVIJOLIČNO, KALCIJEVI PA OPEČNATO RUMENO. DOBILI BI MEŠANICO OBEH BARV IN NE BI MOGLI DOKAZATI OBEH SPOJIN V RAZTOPINI PEPELA.']\n",
      "BT:  ['Kalijevi ioni barvajo plamen na pameten način. Kalcijevi ioni postajajo rumeni. - Ja.']\n",
      "\n",
      "Orig:  ['3 EPRUVETE; PORCELANSKA IZPARILNICA; PORCELANSKA TERILNICA; PESTILO; SUŠILNIK; 0,1 M RAZTOPINA BAKROVEGA SULFATA(VI); TRDEN NATRIJEV KLORID; 1 M RAZTOPINA AMONIAKA; TRDEN BAKROV SULFAT(VI) PENTAHIDRAT']\n",
      "BT:  ['3 EPRUETES; PORCELAN OUTER SULFATE; PORCELAN TERRITHES; POTTLE; SULFATE SELFATE STRAY DISTRUKTION; 1 M Distruction AMONIAKA; Sulpfat Hard BAKRE (VI) PENTATHIDRAT (VI)']\n",
      "\n",
      "Orig:  ['Smešen klovn Na žuru je vedno v centru pozornosti, pa tudi sicer je navajen, da zabava vse okoli sebe. Tak tipček se bo šalil tudi pri resnih temah.']\n",
      "BT:  ['Funny Clown On je vedno v središču pozornosti na stranko, in on se uporablja za zabavo vsakogar okoli njega.']\n",
      "\n",
      "Orig:  ['zapete žalostinke, pogrebni službi Novak ter vsem, ki ste pokojnega pospr']\n",
      "BT:  ['pogrebni slovesnosti in za tiste, ki so umrli']\n",
      "\n",
      "----------------------------------------\n",
      "Score:  0.30000000000000004\n",
      "----------------------------------------\n",
      "Score:  0.4\n",
      "Orig:  ['Pri izvedencu Ivanu Prebilu pa gre za kolizijo interesov, saj je Prebil v neposredni poslovni povezavi s podjetjem Sistemska tehnika, ki se je na razpisu potegovalo za nabavo oklepnikov. Prebil je namreč član upravnega odbora družbe Skupine Viator & Vektor, ki je lastnik Sistemske tehnike. Izvedensko mnenje osebe, ki je kakor koli povezano s predmetom preiskave, tudi na sodišču ne bi imelo nikakršne veljave in bi bilo izločeno. Zato v SDS razmišljajo, da bi zahtevali umik Prebilovega poročila iz končnega poročila komisije.']\n",
      "BT:  ['Izvedenec Ivan Prebil pa je na drugi strani v navzkrižju interesov, saj je imel z družbo Sistemska tehnika (Sistemska tehnika), ki se je potegovala za nakup oklepnih vozil, neposreden poslovni odnos. Član upravnega odbora družbe Viator & Vektor, ki je lastnik družbe) Sistemska tehnika (Sistemska tehnika), je podal pozitivno mnenje. Strokovno mnenje osebe, ki je kakor koli povezana s predmetom preiskave, ne bi imelo nobenega učinka pri']\n",
      "\n",
      "Orig:  ['Avto pripelje bliže. Sliši, da se vrata odprejo. In ostanejo odprta. Nato zasliši korake. Trg leži na blagi vzpetini, sam sedi na njegovem najvišjem delu, zato se je treba do njega malce potruditi, toda koraki po kamnitem tlaku se nazadnje ustavijo kak meter stran. Mundy je še vedno preveč jezen, zmeden in naveličan, da bi dvignil glavo.']\n",
      "BT:  ['On sliši korake. On sliši korake. Trg leži na nežnem hribu, sedi sam na najvišji točki, tako da boste morali potruditi, da bi dobili za to, vendar so koraki vzdolž kamnitega pločnika končno ustaviti nekaj metrov stran. Mundy je še vedno preveč jezen, zmeden, in utrujen, da dvigne glavo.']\n",
      "\n",
      "Orig:  ['Med pomembnejša dela v prvi fazi obnove vsekakor sodi 1.850 kvadratnih metrov steklenega pročelja, poleg njega pa tudi preureditev nadstropij od petega do vrha. Kot smo izvedeli, bodo preuredili 95 sob, med njimi deset takih, ki imajo po dva prostora. Sobe bodo opremili po strogih Inter-Continentalovih standardih. Skupna površina preurejenih nadstropij je 3.400 kvadratnih metrov.']\n",
      "BT:  ['Eden od najpomembnejših del v prvi fazi prenove je zagotovo 1.850 kvadratnih metrov steklene fasade, kot tudi preureditev tal od petega na vrh. Kot smo izvedeli, bo obnovljena 95 sob, od tega deset od njih, vsaka z dvema prostoroma, ki bodo opremljene po strogih Inter-Continental standardov.']\n",
      "\n",
      "Orig:  ['Čez vikend sem najraje pri sestrični Rebeki, saj se imava skupaj vedno fino. Drugače pa še vedno rada rolam, hladno vreme me sploh ne moti, samo da ni snega. Drugače pa gledam televizijo in hodim v kino s prijateljicami. ']\n",
      "BT:  ['Med vikendi, Raje bi ostal z bratrancem Rebekah, ker smo vedno zabavali skupaj, vendar sem še vedno všeč, da roll, hladno vreme me sploh ne moti, dokler ni snega, ampak gledam televizijo, in grem v kino z']\n",
      "\n",
      "Orig:  ['Prireditev je imela, tako kot vsako leto, tudi letos dobrodelen značaj']\n",
      "BT:  ['Dogodek je bil, kot vsako leto, dobrodelne narave.']\n",
      "\n",
      "----------------------------------------\n",
      "Score:  0.5\n",
      "Orig:  ['Med najbolj znanimi misijonarji slovenskega rodu je bil vsekakor Ignacij Knoblehar, misijonar v Sudanu. Med tamkajšnjimi črnskimi plemeni je misijonaril deset let. V tem času je tudi proučeval in raziskoval življenje tamkajšnjih prebivalcev, lokalno floro in favno ter se kot navdušen jezikoslovec ukvarjal s sestavljanjem slovarja črnskega jezika. Med svojim življenjem v sudanskih pokrajinah je bil tudi raziskovalni pionir, ki je raziskoval zlasti tok Belega Nila. Pri svojih raziskovanjih je prišel do skrajne točke, ki jo je dosegel beli človek, žal pa so se te njegove zasluge na področju raziskovanja pozabile. V pozabo so utonile njegove morda še večje zasluge na področju boja proti v tistih časih (in delno še dandanes) močno zakoreninjenemu suženjstvu in trgovini z ljudmi, še posebno otroki. Pozabili so jih Evropejci, ne pa tudi tamkajšnji prebivalci. Domačini, ki so Knobleharju nadeli ime \"Abuna Soliman\", so ga imeli zelo v časteh in še desetletja po njegovi smrti']\n",
      "BT:  ['Eden najbolj znanih misijonarjev slovenskega rodu je bil Ignacij Knoblehar, misijonar v Sudanu, ki je deset let služil kot misijonar. V tem času je preučeval in raziskoval tudi življenje domačinov, lokalno floro in favno. Kot navdušen jezikoslovec je sestavil slovar črnega jezika. Med svojim življenjem v sudanskih provincah je bil tudi raziskovalni pionir, ki je preučeval potok Belega Nila. V svojih raziskavah je segel do skrajnosti belega človeka, žal pa so bili njegovi dosežki na področju raziskovanja pozabljeni. Njegove morda še večje zasluge v boju proti suženjstvu in trgovini z ljudmi so bile v tistih časih (in deloma še danes) globoko zakoreninjene v regiji, in še posebej lokalni otroci niso bili pozabljeni.']\n",
      "\n",
      "Orig:  ['\"Glede na to, da so nas malodane vsi sogovorniki, vključno z ljudmi, ki niso hoteli govoriti z nami, opozarjali, naj bomo previdni, ko pišemo o navezi Janša-Petek-Novak, bo prejkone na vrsto prišel še tednik, ki ga berete.\"']\n",
      "BT:  ['\"Ker so nas skoraj vsi sogovorniki, tudi tisti, ki nočejo govoriti z nami, opozarjali, naj bomo previdni pri pisanju o Janši-petku-Novaku, bo tednik, ki ga berete, na prvem mestu.\"']\n",
      "\n",
      "Orig:  ['To, da na CNN ali drugih mednarodnih televizijskih postajah praktično v živo gledamo aretacije protestnikov v Lhasi, nas pač ne more pustiti hladnih. Če smo se lahko osamosvojili Slovenci, se imajo pravico tudi drugi zatirani narodi. ']\n",
      "BT:  ['Dejstvo, da aretacije protestnikov v Lhasi tako rekoč v živo spremljamo na CNN-u ali drugih mednarodnih televizijskih postajah, nas ne more pustiti hladne. Če smo se uspeli osamosvojiti, imamo tudi Slovenci pravico ostati zatirani.']\n",
      "\n",
      "Orig:  ['Sodišče je po pretehtavanju dokazov sklenilo, da je Slovak kriv, čeprav se je obramba sklicevala tudi na po njihovem mnenju napačno prevedeno izpoved prič. Po tej domnevno narobe prevedeni izjavi naj bi bil eden od beračev potrdil zagovor obtoženega, češ da jim je samo pomagal pri beračenju, ni pa jih silil vanj. ']\n",
      "BT:  ['Po tehtanju dokazov, Sodišče je sklenilo, da je Slovak kriv, čeprav obramba sklicuje tudi na napačno prevedeno pričevanje prič, in v skladu s to domnevno napačno prevedeno izjavo, eden od beračev je potrdil obtoženca obrambo, trdi, da jih je le pomagal prosjačiti, ne pa jih prisiliti v to.']\n",
      "\n",
      "Orig:  ['Če upoštevamo podatke o podnebnih razmerah zadnjih dvajsetih let, ko so meteorologi zabeležili povprečno dviganje temperature za 1,2 stopinje, bo naslednja zima, kot vse kaže, razmeroma mila, s podpovprečno hladnimi temperaturami, z malo snega in malo megle. Snega bo zaradi milejših temperatur torej manj kot običajno.']\n",
      "BT:  ['Ob upoštevanju podnebnih podatkov v zadnjih dvajsetih letih, ko so meteorologi zabeležili povprečni dvig temperature za 1,2 stopinj, naslednjo zimo se zdi, da je relativno blag, s podpovprečno hladne temperature, malo snega in malo megle, in manj snega kot običajno zaradi milejših temperaturah.']\n",
      "\n",
      "----------------------------------------\n",
      "Score:  0.6\n",
      "Orig:  ['Za informativno TV-oddajo je viktorja že četrto leto zapored prejela paradna oddaja 24UR, ki jo lahko spremljate na POP TV. Viktorja za obetavno medijsko osebnost je prejela Lili Žagar, voditeljica informativne oddaje Svet na Kanalu A. Kipec v kategoriji igrane TV-oddaje pa je kakor že nekaj let zapored prejela serija Naša mala klinika. ']\n",
      "BT:  ['Že četrto leto zapored je bil Viktor nagrajen za informativno TV oddajo 24UR, ki jo lahko gledate na POP TV. Viktorja je za obetavno medijsko osebnost prejela Lili Žagar, voditeljica oddaje Svet na Kanalu A. Kipec pa je tako kot v preteklih letih prejela serijo Naša mala klinika v kategoriji oddaje v živo.']\n",
      "\n",
      "Orig:  ['\"Vedno bolj se nagibamo k misli, da težave dr. Spomenke Hribar izhajajo iz dejstva, da je preblizu stvarem (morda tudi kot ženska; a kaj bomo govorili, pomislimo samo na Angelo Vode). Iz Kamniške Bistrice ne boš videl Kamniških Alp, če pa stopiš na Ljubljanski grad in imaš srečo (na kak jasen zimski dopoldan), jih boš imel pred sabo v celoti. Tako bi tudi Spomenka Hribar, preden bi se spet kdaj odločila za opazovanje revolucije in državljanske vojne, ravnala modro, če bi stopila nekaj sto metrov nazaj in si tako zagotovila celovitejši razgled.\"']\n",
      "BT:  ['\"Vedno bolj se nam dozdeva, da težave dr. Spomenke Hribar izvirajo iz tega, da je preveč blizu stvari (morda tudi kot ženska; toda kaj bomo rekli, pomislimo samo na Angelo Vodo). Iz Kamniške Bistrice ne boste videli Alp, toda če stopite na Ljubljanski grad in imate srečo (na jasno zimsko jutro jih boste imeli v polnem pogledu). Tako bi Spomenka Hribar storila, preden bi se še kdaj odločila opazovati revolucijo in državljansko vojno, pametno, če bi stopila nekaj sto metrov nazaj in si s tem zagotovila malo sreče, da bi se lahko vrnila na Zemljo.']\n",
      "\n",
      "Orig:  ['Foxy Teens smo blagovna znamka, o kateri se je pisalo neprekinjeno osem let in se bo pisalo še naprej.Precejšnjemu delu naše tiskane naklade bomo prihodnji teden za posebno ceno priložili CD Tereze Kesovije. Za naročnike Hopla velja posebna ponudba.']\n",
      "BT:  ['Foxy Teens je blagovna znamka, o kateri se piše neprekinjeno že osem let in se bo pisala še naprej. Naslednji teden bomo velikemu delu naše tiskane izdaje za posebno ceno dodali CD Tereze Kesovija.']\n",
      "\n",
      "Orig:  ['Gospa doktor Bahr je spretnejša z banalnostmi. \"Toda če gre Amerika v desno, če se v desno pomika tudi Britanija, če se desnica krepi po vsej Zahodni Evropi, vas res ni čisto nič strah za usodo svetovnega miru?\"']\n",
      "BT:  ['\"Ampak, če gre Amerika v desno, če se tudi Britanija premakne v desno, če se desnica krepi po vsej zahodni Evropi, ali se resnično ne bojite za usodo svetovnega miru?\"']\n",
      "\n",
      "Orig:  ['\"Res ste tako rekli. Ampak pred dokončno ste gotovo sklenili vsaj kakšno bolj kratkoročno pogodbo. Niti v najbolj dobrohotnih fundacijah se ne bi od takšne vsote ločili brez enega samega dokumenta.\"']\n",
      "BT:  ['\"Da, ste, toda preden ste ga dokončali, ste morali skleniti vsaj kratkoročno pogodbo in celo v najbolj dobrohotnih temeljih se od takšne vsote ne bi ločili brez enega samega dokumenta.\"']\n",
      "\n",
      "----------------------------------------\n",
      "Score:  0.7000000000000001\n",
      "Orig:  ['Dr. Marko Kambič je rojen leta 1963 v Ljubljani, kjer je končal študij prava. Po krajšem stažu v Arhivu Republike Slovenije se je leta 1989 zaposlil na katedri za pravno zgodovino in rimsko pravo Pravne fakultete v Ljubljani. Izobraževal se je tudi v tujini, sodeloval je pri več raziskavah in je avtor številnih znanstvenih člankov. Pri založbi ZRC SAZU je lani izšla njegova monografija o recepciji rimskega dednega prava na Slovenskem. Na matični fakulteti poučuje rimsko pravo, v izobraževalnem procesu pa sodeluje tudi na mariborski pravni fakulteti. Predaval je na Socialni akademiji in v okviru Akademije Jožeta Pučnika ter Nove politike. Med drugim je predsednik sveta Zgodovinskega arhiva Ljubljana in član upravnega odbora Inštituta za novejšo zgodovino.']\n",
      "BT:  ['Dr. Marko Kambič se je rodil leta 1963 v Ljubljani, kjer je končal študij prava. Po pripravništvu v Arhivu Republike Slovenije se je leta 1989 zaposlil na Oddelku za pravno zgodovino in rimsko pravo na Pravni fakulteti v Ljubljani. Študiral je tudi v tujini, sodeloval pri več raziskavah in je avtor številnih znanstvenih člankov. Monografijo o recepciji rimskega prava v Sloveniji je lani izdal ZRC SAZU. Poučuje rimsko pravo na matični fakulteti, sodeluje tudi v izobraževalnem procesu na Pravni fakulteti v Mariboru. Predaval je na Socialni akademiji in v okviru Akademije Jožeta Pučnika in Nove politike. Med drugim je predsednik Sveta za zgodovino']\n",
      "\n",
      "Orig:  ['\"Celotno sezono sem podredil evropskemu prvenstvu, kajti konfiguracija proge mi je zelo ustrezala. Svojo pravilno pot sem potrdil s slavjem na Bergamaškem, nato pa sem svojo formo nekoliko spustil in jo nato neposredno pred EP znova dvignil na želeno raven.\"']\n",
      "BT:  ['\"celotno sezono sem podredil evropskemu prvenstvu, ker mi je konfiguracija proge zelo ustrezala, svojo pravilno pot sem potrdil s praznovanjem v Bergamoški, nato pa malo znižal formo in jo neposredno pred EP ponovno dvignil na želeno raven.\"']\n",
      "\n",
      "Orig:  ['Kobe: Nič nimam proti multikinu, me pa žalosti, da smo s postavitvijo multikina ubogali to populistično selitev mestnega življenja v periferne nakupovalne centre. Prostor zanj smo že imeli, v Šumiju v središču Ljubljane! V Londonu smo že v študentskih časih hodili v multikino, že v sedemdesetih letih!']\n",
      "BT:  [': Kobe Nič nimam proti multikinu, vendar me žalosti, da smo z ustanovitvijo multikina! ubogali to populistično migracijo mestnega življenja v obrobna nakupovalna središča. Za to smo že imeli prostor, v Šumiju v središču Ljubljane V Londonu smo že šli v multikino v naših študentskih časih, že v']\n",
      "\n",
      "Orig:  ['JACQUES LEMANS Avtomatski kronograf Geneve izraža težnjo znamke Jacques Lemans po preboju v višji kakovostni razred. Poganja ga mehanizem Valjoux 7750, na voljo pa je z različnimi številčnicami in pasovi. Stane 319.990 tolarjev.']\n",
      "BT:  ['JACQUES LEMANS Avtomatski kronograf Geneve izraža željo Jacquesa Lemansa, da bi se prebil v višji kakovostni razred, ki ga poganja Valjoux 7750 mehanizem in ki je na voljo z različnimi številčnicami in pasovi, stane 319.990 tolarjev.']\n",
      "\n",
      "Orig:  ['Motor v našem testnem lacettiju je bil bencinski 1,6-litrski in je zmogel 109 konjskih moči pri 5800 vrtljajih ter 150 Nm navora pri 4000 vrtljajih. Tudi motor spada med tiste solidne, dobro preizkušene, ki niso čudo sodobne tehnike, a so lahko prav zaradi tega nameščeni v avtomobile nižjega cenovnega razreda. Tako poraba kot vozne lastnosti so povsem solidne: največja hitrost je družinsko povprečnih 187 km/h, pospešek od 0 do 100 km/h je 11,4 sekunde, v tovarni so zapisali porabo med 6,3 in 10,3 litra za 100 kilometrov, na testu pa smo porabili 11,6 litra ob seveda ne preveč nežni vožnji.']\n",
      "BT:  ['Motor v našem testnem lacettiju je bil 1,6-litrski bencinski motor, ki je lahko 109 konjskih moči pri 5800 vrt / min in 150 Nm navora pri 4000 vrt / min. Motor je tudi eden od tistih trdnih, dobro preizkušenih, ki niso čudo sodobne tehnologije, vendar jih je iz tega razloga mogoče namestiti v avtomobile nižjega cenovnega razreda. Poraba in vozne lastnosti so popolnoma trdne, največja hitrost je družinsko povprečje 187 km / h, pospešek od 0 do 100 km / h je 11,4 sekunde, v tovarni so zabeležili porabo med 6,3 in 10,3 litra na 100 kilometrov, in smo porabili 11,6 litrov na testu, seveda, ne preveč nežen.']\n",
      "\n",
      "----------------------------------------\n",
      "Score:  0.8\n",
      "Orig:  ['Kako pa ocenjujete ravnanje slovenske policije pri tem dogodku? Direktor Zavoda 25. junij Marjan Podobnik je bil do ravnanja slovenske policije zelo kritičen ter je celo zahteval odstop notranjega ministra Dragutina Mateja in generalnega direktorja policije Jožeta Romška …']\n",
      "BT:  ['Direktor zavoda 25. junij Marjan Podobnik je bil do ravnanja slovenske policije zelo kritičen in je celo zahteval odstop ministra za notranje zadeve Dragutina Mateja in generalnega direktorja policije, Jožeta Romška.']\n",
      "\n",
      "Orig:  ['Na prvi zgoščenki je 16 pesmi s posvetno tematiko, ki jih je Tomc napisal v razdobju od leta 1924 do 1977 (od Balada o čičku do Moja domovina). Pesmi so zelo raznolike, del se jih navezuje na podeželski svet in so prave mojstrovine.']\n",
      "BT:  ['Na prvi zgoščenki je 16 pesmi s posvetno tematiko, ki jih je Tomc napisal v obdobju 1924-1977 (od Balada o chičekom do Moje domovine) in so zelo raznolike, del se jih nanaša na podeželski svet in so prave mojstrovine.']\n",
      "\n",
      "Orig:  ['Čeprav je skupna dolžina sedmih odsekov - na Kralov breg, do Horvatovih in mlekarne, Žilavčevih, Makarija, Gregorcev in Žarka ter proti Sukičevim in Novakovim - okrog dva kilometra, so modernizirani odseki za kraj zelo pomembni in so bili dolgo pričakovani.']\n",
      "BT:  ['Čeprav je skupna dolžina sedmih odsekov - na Kralov breg, do Horvatov in Mlekarne, Žilavčevi, Makari, Gregorci in Žarka ter proti Sukičevu in Novakovu - približno dva kilometra, so posodobljeni odseki za kraj zelo pomembni in so bili dolgo pričakovani.']\n",
      "\n",
      "Orig:  ['Strateški svet vlade je pred prvo resno preizkušnjo. Bo cvet naprednih ekonomistov, ki si prizadevajo za večjo konkurenčnost in hitrejši razvoj Slovenije, zgolj pametoval od strani ali pa bo vpričo predsednika vlade brezkompromisno udaril po mizi? Vlada je namreč pred kratkim predlagala spremembe pokojninskega zakona, ki imajo lahko katastrofalne posledice za zdravje državnih financ in za prihodnji gospodarski razvoj Slovenije.']\n",
      "BT:  ['Strateški svet vlade se sooča s prvo resno preizkušnjo. Ali se bo cvet naprednih ekonomistov, ki si prizadevajo za večjo konkurenčnost in hitrejši razvoj Slovenije, le odmaknil s strani ali pa bo v prisotnosti predsednika vlade brezkompromisno udaril po mizi? Vlada je pred kratkim predlagala spremembe pokojninskega zakona, ki bi lahko imele katastrofalne posledice za zdravje državnih financ in za prihodnost']\n",
      "\n",
      "Orig:  ['Maribor, Ljubljana - Usoda Janeza Gajška, v začetku 90. let direktorja mariborske Metalne in predsednika mariborskega odbora Slovenskih krščanskih demokratov, sedaj pa člana izvršilnega odbora SKD, ostaja še nadalje nejasna.']\n",
      "BT:  ['Maribor, Ljubljana - Usoda Janeza Gajšeka, v začetku devetdesetih let, direktorja mariborske Metalne in predsednika mariborskega komiteja Slovenskih krščanskih demokratov, zdaj člana izvršilnega odbora SKD, še naprej ostaja nejasna.']\n",
      "\n",
      "----------------------------------------\n",
      "Score:  0.9\n",
      "Orig:  ['Triglav in Maribor izgubila v 3. kolu kvalifikacij za LP']\n",
      "BT:  ['Triglav in Maribor izgubila v 3. krogu kvalifikacij za LP']\n",
      "\n",
      "Orig:  ['Poskus: Raztapljanje magnezija v 1 M in 2 M HCl']\n",
      "BT:  [': Eksperimentalno raztapljanje magnezija v 1 M in 2 M HCl']\n",
      "\n",
      "Orig:  ['c) gorenje Ali gori s sajastim plamenom? Ali pri tem ']\n",
      "BT:  ['c) gori ali gori s sajastim plamenom? Ali pri tem']\n",
      "\n",
      "Orig:  ['a) Zakaj se glina gladka in spolzka, če je mokra?']\n",
      "BT:  ['a) Zakaj postane glina gladka in spolzka, če je mokra?']\n",
      "\n",
      "Orig:  ['c Obe razporeditvi elektronov predstavljata razporeditev elektronov v ionu Na+.']\n",
      "BT:  ['c Obe razporeditvi elektronov predstavljata razporeditev elektronov v Na + ionu.']\n",
      "\n"
     ]
    }
   ],
   "source": [
    "for step in np.arange(0.1, 1, 0.1):\n",
    "    score_ix = np.nonzero(np.abs(scores - step) < 0.05)\n",
    "\n",
    "    score_pairs = np.array([[sentences_np[score_ix], paraps_np[score_ix]]]).T\n",
    "\n",
    "    print(\"----------------------------------------\")\n",
    "    print(\"Score: \", step)\n",
    "    for orig, bt in score_pairs[:5]:\n",
    "        print(\"Orig: \", orig)\n",
    "        print(\"BT: \", bt)\n",
    "        print()"
   ]
  }
 ],
 "metadata": {
  "kernelspec": {
   "display_name": "Python 3",
   "language": "python",
   "name": "python3"
  },
  "language_info": {
   "codemirror_mode": {
    "name": "ipython",
    "version": 3
   },
   "file_extension": ".py",
   "mimetype": "text/x-python",
   "name": "python",
   "nbconvert_exporter": "python",
   "pygments_lexer": "ipython3",
   "version": "3.8.10"
  }
 },
 "nbformat": 4,
 "nbformat_minor": 0
}
