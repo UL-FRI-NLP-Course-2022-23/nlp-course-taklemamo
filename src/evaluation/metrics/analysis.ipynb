{
 "cells": [
  {
   "cell_type": "code",
   "execution_count": 6,
   "metadata": {
    "ExecuteTime": {
     "end_time": "2023-05-17T08:10:15.620011200Z",
     "start_time": "2023-05-17T08:10:13.754012500Z"
    },
    "collapsed": false
   },
   "outputs": [],
   "source": [
    "from paraphrase_metrics import ROUGEMetric\n",
    "import pandas as pd\n",
    "import numpy as np\n",
    "import matplotlib.pyplot as vlt"
   ]
  },
  {
   "cell_type": "code",
   "execution_count": 3,
   "metadata": {
    "ExecuteTime": {
     "start_time": "2023-05-17T08:10:15.614011600Z"
    },
    "collapsed": false
   },
   "outputs": [],
   "source": [
    "datadir = \"../../../data/backtranslate/\"\n",
    "readpath = datadir + \"backtranslate.csv\"\n",
    "\n",
    "df = pd.read_csv(readpath, header=None, sep='\\t', names=['s', 'p'])\n",
    "\n",
    "sentences = df['s'].tolist()\n",
    "paraps = df['p'].tolist()"
   ]
  },
  {
   "cell_type": "code",
   "execution_count": 5,
   "metadata": {
    "collapsed": false
   },
   "outputs": [],
   "source": [
    "metric = ROUGEMetric()\n",
    "scores = metric.eval(sentences, paraps)"
   ]
  },
  {
   "cell_type": "code",
   "execution_count": 8,
   "metadata": {
    "collapsed": false
   },
   "outputs": [
    {
     "data": {
      "image/png": "[encoded data removed]",
      "text/plain": [
       "<Figure size 640x480 with 1 Axes>"
      ]
     },
     "metadata": {},
     "output_type": "display_data"
    }
   ],
   "source": [
    "vlt.hist(scores, bins=150)\n",
    "vlt.show()"
   ]
  },
  {
   "cell_type": "code",
   "execution_count": 11,
   "metadata": {},
   "outputs": [
    {
     "name": "stdout",
     "output_type": "stream",
     "text": [
      "Orig:  ['LJOTIČEVCI . . . . . . . . . . . . .'\n",
      " 'te dvojnosti? . . . . . . . . . . . . . .'\n",
      " 'raze sožalja, cvetje, sveče in svete maše, g. patru Luki za opravljen obr'\n",
      " 'Se pravi, da država ne bi mogla vzdrževati profesionalne vojske?'\n",
      " '# which fax number to transmit to the receiving station'\n",
      " '1. YOU MAY MAKE AND GIVE AWAY VERBATIM COPIES OF THE SOURCE FORM OF THE '\n",
      " '2. You may apply bug fixes, portability fixes and other modifications derived from the Public Domain or from the Copyright Holder. A packag'\n",
      " 'ašami in jo pospremili k večnemu počitku. Posebno zahvalo izrekamo zdravs'\n",
      " '......... žena je tajnica pri kongresniku ....................... preden se je poročila s kongresnikom, je bila zaposlena v.................... (ph). Prav tako je v določenem času nadaljevala z razmerjem z uslužbencem poštnega urada v kongresu po imenu ................... (ph) in po poroki s kongresnikom nadaljevala to druženje. Med kongresnikovo nedavno boleznijo, je .................... vztrajal, da skrbi zanj bolničar moškega spola in se je povezal z indonez ijsko ambasado, da bi zaposlil moža, za katerega je ona zatrdila, da so ji ga izrecno priporočili. Prizadevala si je, da bi imela ljubezensko razmerje s tem Indonezijcem, ki jo je zavrnil, saj je ugotovil, da je tujec in da bi ga lahko deportirali zaradi neprimernega obnašanja. Specialni agent TRAHERN se seveda ni udeležil te diskusije, niti ni pokazal udeležencem kakršnegakoli interesa za to diskusijo.'\n",
      " '-------------------------------------------------------- Tar. HS ali KN Poimenovanje Sedanja Končno Količina št. oznaka izdelkov carina zmanjšanje'\n",
      " '-------------------------------------------------------- 0406 Sir in skuta 480 0406.10-991 Svež sir (nedozorel ali nenasoljen), vključno sirotka, in skuta; drugo 0406.20-992 Sir nariban ali v prahu, vseh vrst; drugo 0406.30-993 Sir, topljen, razen naribanega ali v prahu; drugo 0406.90-023 Sir iz kravjega mleka, ki ni zajet niti omenjen'\n",
      " '-------------------------------------------------------- 1704 Sladkorni proizvodi brez kakava 100 1704.10-018 Diabetični žvečilni gumi 1704.10-997 Žvečilni gumi, prevlečen s sladkorjem ali ne 1704.90-016 Tekoči ekstrakt, ki vsebuje več kot 10% saharoze v masi, toda brez drugih dodanih snovi 1704.90-991 Druge slaščice'\n",
      " 'nima nima nima nima nima nima nima nima nima nima nima'\n",
      " 'o o o o o o – –– –– –– ––' 'o o + ++ ++ ++ + + ++ + +'\n",
      " 'ni ni ni ni ni ni ni ni + +' '++ ++ o + + + + + + +'\n",
      " '\"We\\'re not going to make it out. Pray for us.\"'\n",
      " 'ODCVETELE CVETNE VRŠIČKE ODREŽETE NA STEBELNEM KOLENCU IN TAKO DOSEŽETE PODALJŠANO CVETENJE. ČE HOČETE IMETI PLODOVE IN SEMENA, PUSTITE CVETOVE NA RASTLINI.'\n",
      " 'Then I whisper in her ear So wine harder ']\n",
      "BT:  ['Ljudje.........' 'V tej dualnosti...'\n",
      " 'Â Â Â Â Â Â Â Â Â Â Â Â Â Â Â Â Â Â Â'\n",
      " 'Ali je mogoče imeti profesionalno vojsko?'\n",
      " '# številka faksa, ki jo želite poslati sprejemni postaji'\n",
      " 'Lahko bi naredili in dali na stran verbatske kopije izvorne oblike ladje.'\n",
      " 'Uporabite lahko popravke napak, popravke prenosljivosti in druge spremembe, ki izhajajo iz javne domene ali imetnika avtorskih pravic.'\n",
      " 'Posebna zahvala gre za to, da je zdravstveno stanje v'\n",
      " '...................................................................................................................................................................................................'\n",
      " '--------------------------'\n",
      " '-------------------------------------------------------------------------------------------------'\n",
      " '---------------------------------------------------------------------------'\n",
      " 'Ne, ne, ne, ne, ne, ne, ne, ne, ne.' 'Oh oh oh oh oh oh -- -- -- --'\n",
      " '+ + + + + + + + + + + + + + +' 'ne ne ne ne ne ne ne + +'\n",
      " '+ + + + + + + + + + +' '\"ne bo nam uspelo priti ven, moli za nas.\"'\n",
      " '........' 'Potem ji zašepetam v uho, da bo bolj vino.']\n",
      "\n"
     ]
    }
   ],
   "source": [
    "sentences_np = np.array(sentences)\n",
    "paraps_np = np.array(paraps)\n",
    "\n",
    "zero_ix = np.nonzero(scores == 0)\n",
    "one_ix = np.nonzero(scores == 1)\n",
    "zero_pairs = [[sentences_np[i], paraps_np[i]] for i in zero_ix[0]]\n",
    "one_pairs = [[sentences_np[i], paraps_np[i]] for i in one_ix[0]\n",
    "\n",
    "for orig, bt in zero_pairs[:10]:\n",
    "    print(\"Orig: \", orig)\n",
    "    print(\"BT: \", bt)\n",
    "    print()\n"
   ]
  }
 ],
 "metadata": {
  "kernelspec": {
   "display_name": "Python 3",
   "language": "python",
   "name": "python3"
  },
  "language_info": {
   "codemirror_mode": {
    "name": "ipython",
    "version": 3
   },
   "file_extension": ".py",
   "mimetype": "text/x-python",
   "name": "python",
   "nbconvert_exporter": "python",
   "pygments_lexer": "ipython3",
   "version": "3.8.10"
  }
 },
 "nbformat": 4,
 "nbformat_minor": 0
}
