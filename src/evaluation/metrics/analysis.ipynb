{
 "cells": [
  {
   "cell_type": "code",
   "execution_count": 36,
   "metadata": {
    "ExecuteTime": {
     "end_time": "2023-05-17T08:10:15.620011200Z",
     "start_time": "2023-05-17T08:10:13.754012500Z"
    },
    "collapsed": false
   },
   "outputs": [],
   "source": [
    "from paraphrase_metrics import ROUGEMetric\n",
    "import pandas as pd\n",
    "import numpy as np\n",
    "import matplotlib.pyplot as vlt"
   ]
  },
  {
   "cell_type": "code",
   "execution_count": 37,
   "metadata": {
    "ExecuteTime": {
     "start_time": "2023-05-17T08:10:15.614011600Z"
    },
    "collapsed": false
   },
   "outputs": [],
   "source": [
    "datadir = \"../../../data/backtranslate/\"\n",
    "readpath = datadir + \"backtranslate.csv\"\n",
    "\n",
    "df = pd.read_csv(readpath, header=None, sep='\\t', names=['s', 'p'])\n",
    "\n",
    "sentences = df['s'].tolist()\n",
    "paraps = df['p'].tolist()"
   ]
  },
  {
   "cell_type": "code",
   "execution_count": 38,
   "metadata": {
    "collapsed": false
   },
   "outputs": [
    {
     "ename": "KeyboardInterrupt",
     "evalue": "",
     "output_type": "error",
     "traceback": [
      "\u001b[1;31m---------------------------------------------------------------------------\u001b[0m",
      "\u001b[1;31mKeyboardInterrupt\u001b[0m                         Traceback (most recent call last)",
      "Cell \u001b[1;32mIn[38], line 2\u001b[0m\n\u001b[0;32m      1\u001b[0m metric \u001b[39m=\u001b[39m ROUGEMetric()\n\u001b[1;32m----> 2\u001b[0m scores \u001b[39m=\u001b[39m metric\u001b[39m.\u001b[39;49meval(sentences, paraps)\n",
      "File \u001b[1;32mc:\\Users\\blazr\\OneDrive\\Faks\\Mag1\\2sem\\nlp\\nlp-course-taklemamo\\src\\evaluation\\metrics\\paraphrase_metrics.py:70\u001b[0m, in \u001b[0;36mROUGEMetric.eval\u001b[1;34m(self, original, paraphrase)\u001b[0m\n\u001b[0;32m     69\u001b[0m \u001b[39mdef\u001b[39;00m \u001b[39meval\u001b[39m(\u001b[39mself\u001b[39m, original, paraphrase) \u001b[39m-\u001b[39m\u001b[39m>\u001b[39m np\u001b[39m.\u001b[39marray:\n\u001b[1;32m---> 70\u001b[0m     res \u001b[39m=\u001b[39m \u001b[39mself\u001b[39;49m\u001b[39m.\u001b[39;49mrouge\u001b[39m.\u001b[39;49mcompute(predictions\u001b[39m=\u001b[39;49mparaphrase, references\u001b[39m=\u001b[39;49moriginal, use_aggregator\u001b[39m=\u001b[39;49m\u001b[39mFalse\u001b[39;49;00m)\n\u001b[0;32m     71\u001b[0m     \u001b[39mreturn\u001b[39;00m np\u001b[39m.\u001b[39marray(res[\u001b[39m\"\u001b[39m\u001b[39mrougeL\u001b[39m\u001b[39m\"\u001b[39m])\n",
      "File \u001b[1;32mf:\\Python\\nlp\\nlp_env\\lib\\site-packages\\evaluate\\module.py:444\u001b[0m, in \u001b[0;36mEvaluationModule.compute\u001b[1;34m(self, predictions, references, **kwargs)\u001b[0m\n\u001b[0;32m    442\u001b[0m inputs \u001b[39m=\u001b[39m {input_name: \u001b[39mself\u001b[39m\u001b[39m.\u001b[39mdata[input_name] \u001b[39mfor\u001b[39;00m input_name \u001b[39min\u001b[39;00m \u001b[39mself\u001b[39m\u001b[39m.\u001b[39m_feature_names()}\n\u001b[0;32m    443\u001b[0m \u001b[39mwith\u001b[39;00m temp_seed(\u001b[39mself\u001b[39m\u001b[39m.\u001b[39mseed):\n\u001b[1;32m--> 444\u001b[0m     output \u001b[39m=\u001b[39m \u001b[39mself\u001b[39;49m\u001b[39m.\u001b[39;49m_compute(\u001b[39m*\u001b[39;49m\u001b[39m*\u001b[39;49minputs, \u001b[39m*\u001b[39;49m\u001b[39m*\u001b[39;49mcompute_kwargs)\n\u001b[0;32m    446\u001b[0m \u001b[39mif\u001b[39;00m \u001b[39mself\u001b[39m\u001b[39m.\u001b[39mbuf_writer \u001b[39mis\u001b[39;00m \u001b[39mnot\u001b[39;00m \u001b[39mNone\u001b[39;00m:\n\u001b[0;32m    447\u001b[0m     \u001b[39mself\u001b[39m\u001b[39m.\u001b[39mbuf_writer \u001b[39m=\u001b[39m \u001b[39mNone\u001b[39;00m\n",
      "File \u001b[1;32m~\\.cache\\huggingface\\modules\\evaluate_modules\\metrics\\evaluate-metric--rouge\\b01e0accf3bd6dd24839b769a5fda24e14995071570870922c71970b3a6ed886\\rouge.py:142\u001b[0m, in \u001b[0;36mRouge._compute\u001b[1;34m(self, predictions, references, rouge_types, use_aggregator, use_stemmer, tokenizer)\u001b[0m\n\u001b[0;32m    140\u001b[0m     score \u001b[39m=\u001b[39m scorer\u001b[39m.\u001b[39mscore_multi(ref, pred)\n\u001b[0;32m    141\u001b[0m \u001b[39melse\u001b[39;00m:\n\u001b[1;32m--> 142\u001b[0m     score \u001b[39m=\u001b[39m scorer\u001b[39m.\u001b[39;49mscore(ref, pred)\n\u001b[0;32m    143\u001b[0m \u001b[39mif\u001b[39;00m use_aggregator:\n\u001b[0;32m    144\u001b[0m     aggregator\u001b[39m.\u001b[39madd_scores(score)\n",
      "File \u001b[1;32mf:\\Python\\nlp\\nlp_env\\lib\\site-packages\\rouge_score\\rouge_scorer.py:135\u001b[0m, in \u001b[0;36mRougeScorer.score\u001b[1;34m(self, target, prediction)\u001b[0m\n\u001b[0;32m    132\u001b[0m \u001b[39mfor\u001b[39;00m rouge_type \u001b[39min\u001b[39;00m \u001b[39mself\u001b[39m\u001b[39m.\u001b[39mrouge_types:\n\u001b[0;32m    133\u001b[0m   \u001b[39mif\u001b[39;00m rouge_type \u001b[39m==\u001b[39m \u001b[39m\"\u001b[39m\u001b[39mrougeL\u001b[39m\u001b[39m\"\u001b[39m:\n\u001b[0;32m    134\u001b[0m     \u001b[39m# Rouge from longest common subsequences.\u001b[39;00m\n\u001b[1;32m--> 135\u001b[0m     scores \u001b[39m=\u001b[39m _score_lcs(target_tokens, prediction_tokens)\n\u001b[0;32m    136\u001b[0m   \u001b[39melif\u001b[39;00m rouge_type \u001b[39m==\u001b[39m \u001b[39m\"\u001b[39m\u001b[39mrougeLsum\u001b[39m\u001b[39m\"\u001b[39m:\n\u001b[0;32m    137\u001b[0m     \u001b[39m# Note: Does not support multi-line text.\u001b[39;00m\n\u001b[0;32m    138\u001b[0m     \u001b[39mdef\u001b[39;00m \u001b[39mget_sents\u001b[39m(text):\n",
      "File \u001b[1;32mf:\\Python\\nlp\\nlp_env\\lib\\site-packages\\rouge_score\\rouge_scorer.py:199\u001b[0m, in \u001b[0;36m_score_lcs\u001b[1;34m(target_tokens, prediction_tokens)\u001b[0m\n\u001b[0;32m    196\u001b[0m   \u001b[39mreturn\u001b[39;00m scoring\u001b[39m.\u001b[39mScore(precision\u001b[39m=\u001b[39m\u001b[39m0\u001b[39m, recall\u001b[39m=\u001b[39m\u001b[39m0\u001b[39m, fmeasure\u001b[39m=\u001b[39m\u001b[39m0\u001b[39m)\n\u001b[0;32m    198\u001b[0m \u001b[39m# Compute length of LCS from the bottom up in a table (DP appproach).\u001b[39;00m\n\u001b[1;32m--> 199\u001b[0m lcs_table \u001b[39m=\u001b[39m _lcs_table(target_tokens, prediction_tokens)\n\u001b[0;32m    200\u001b[0m lcs_length \u001b[39m=\u001b[39m lcs_table[\u001b[39m-\u001b[39m\u001b[39m1\u001b[39m][\u001b[39m-\u001b[39m\u001b[39m1\u001b[39m]\n\u001b[0;32m    202\u001b[0m precision \u001b[39m=\u001b[39m lcs_length \u001b[39m/\u001b[39m \u001b[39mlen\u001b[39m(prediction_tokens)\n",
      "File \u001b[1;32mf:\\Python\\nlp\\nlp_env\\lib\\site-packages\\rouge_score\\rouge_scorer.py:219\u001b[0m, in \u001b[0;36m_lcs_table\u001b[1;34m(ref, can)\u001b[0m\n\u001b[0;32m    217\u001b[0m       lcs_table[i][j] \u001b[39m=\u001b[39m lcs_table[i \u001b[39m-\u001b[39m \u001b[39m1\u001b[39m][j \u001b[39m-\u001b[39m \u001b[39m1\u001b[39m] \u001b[39m+\u001b[39m \u001b[39m1\u001b[39m\n\u001b[0;32m    218\u001b[0m     \u001b[39melse\u001b[39;00m:\n\u001b[1;32m--> 219\u001b[0m       lcs_table[i][j] \u001b[39m=\u001b[39m \u001b[39mmax\u001b[39;49m(lcs_table[i \u001b[39m-\u001b[39;49m \u001b[39m1\u001b[39;49m][j], lcs_table[i][j \u001b[39m-\u001b[39;49m \u001b[39m1\u001b[39;49m])\n\u001b[0;32m    220\u001b[0m \u001b[39mreturn\u001b[39;00m lcs_table\n",
      "\u001b[1;31mKeyboardInterrupt\u001b[0m: "
     ]
    }
   ],
   "source": [
    "metric = ROUGEMetric()\n",
    "scores = metric.eval(sentences, paraps)"
   ]
  },
  {
   "cell_type": "code",
   "execution_count": 8,
   "metadata": {
    "collapsed": false
   },
   "outputs": [
    {
     "data": {
      "image/png": "[encoded data removed]",
      "text/plain": [
       "<Figure size 640x480 with 1 Axes>"
      ]
     },
     "metadata": {},
     "output_type": "display_data"
    }
   ],
   "source": [
    "vlt.hist(scores, bins=150)\n",
    "vlt.show()"
   ]
  },
  {
   "cell_type": "code",
   "execution_count": 23,
   "metadata": {},
   "outputs": [],
   "source": [
    "sentences_np = np.array(sentences)\n",
    "paraps_np = np.array(paraps)\n",
    "\n",
    "zero_ix = np.nonzero(scores == 0)\n",
    "one_ix = np.nonzero(scores == 1)\n",
    "zero_pairs = np.array([[sentences_np[zero_ix], paraps_np[zero_ix]]]).T\n",
    "one_pairs = np.array([[sentences_np[one_ix], paraps_np[one_ix]]]).T"
   ]
  },
  {
   "cell_type": "code",
   "execution_count": 24,
   "metadata": {},
   "outputs": [
    {
     "name": "stdout",
     "output_type": "stream",
     "text": [
      "Orig:  ['LJOTIČEVCI . . . . . . . . . . . . .']\n",
      "BT:  ['Ljudje.........']\n",
      "\n",
      "Orig:  ['te dvojnosti? . . . . . . . . . . . . . .']\n",
      "BT:  ['V tej dualnosti...']\n",
      "\n",
      "Orig:  ['raze sožalja, cvetje, sveče in svete maše, g. patru Luki za opravljen obr']\n",
      "BT:  ['Â Â Â Â Â Â Â Â Â Â Â Â Â Â Â Â Â Â Â']\n",
      "\n",
      "Orig:  ['Se pravi, da država ne bi mogla vzdrževati profesionalne vojske?']\n",
      "BT:  ['Ali je mogoče imeti profesionalno vojsko?']\n",
      "\n",
      "Orig:  ['# which fax number to transmit to the receiving station']\n",
      "BT:  ['# številka faksa, ki jo želite poslati sprejemni postaji']\n",
      "\n"
     ]
    }
   ],
   "source": [
    "for orig, bt in zero_pairs[:5]:\n",
    "    print(\"Orig: \", orig)\n",
    "    print(\"BT: \", bt)\n",
    "    print()"
   ]
  },
  {
   "cell_type": "code",
   "execution_count": 25,
   "metadata": {},
   "outputs": [
    {
     "name": "stdout",
     "output_type": "stream",
     "text": [
      "Orig:  ['PAOK: 4 Coldebella (30 let, 200), 5 Nikolaidis (24, 85), 6 Berry (34, 204), 8 Maslarinos (24, 192), 9 Balogiannis (28 (197), 10 Peral (24, 210), 11 King (26, 187), 12 Morales (29, 212), 13 Despos (23, 209), 15 Giannoulis (23, 208).']\n",
      "BT:  ['PAOK: 4 Coldebella (30 let, 200), 5 Nikolaidis (24, 85), 6 Berry (34, 204), 8 Maslarinos (24, 192, 9 Balogiannis (28 (197), 10 Peral (24, 210), 11 King (26, 187), 12 Morales (29, 212), 13 Despos (23, 209, 15) Giannoulis (23, 208).']\n",
      "\n",
      "Orig:  ['Pari: Savinjski Hopsi - Helios (19.30), Loka kava - Triglav (18), Kraški zidar - Pivovarna Laško (19), Krka Telekom - Zagorje (20), ZM Maribor - Slovan (20), Union Olimpija - Rogla Atras (četrtek, 19). E. B.']\n",
      "BT:  [': Pari Savinjski Hopsi - Helios (19.30), Loka kava - Triglav (18), Kraški zidar - Pivovarna Laško (19), Krka Telekom - Zagorje (20), ZM Maribor - Slovan (20), Union Olimpija - Rogla Atras (četrtek, 19). E. B.']\n",
      "\n",
      "Orig:  ['Zagovornik Borisa Popoviča, meni, da odgovorni delajo prepočasi in \"pozabljajo\", da je koprski župan v priporu']\n",
      "BT:  ['Zagovornik Borisa Popoviča, meni, da odgovorni delajo prepočasi in \"pozabljajo \", da je koprski župan v priporu']\n",
      "\n",
      "Orig:  ['Temperatura zraka včeraj ob 13. uri: Ljubljana 20, letališče Brnik 19, Slovenj Gradec 18, letališče Maribor 20, Murska Sobota 19, Novo mesto 20, letališče Portorož 24, Nova Gorica 23 in Triglav Kredarica 0 stopinj Celzija.']\n",
      "BT:  ['Temperatura zraka včeraj ob 13. uri: Ljubljana 20, letališče Brnik 19, Slovenj Gradec 18, letališče Maribor 20, Murska Sobota 19, Novo mesto 20, letališče Portorož 24, Nova Gorica 23 in Triglav Kredarica 0 stopinj Celzija.']\n",
      "\n",
      "Orig:  ['6. 1 L alkohola tehta 785 g pri 25 oC.']\n",
      "BT:  ['6,1 l alkohola tehta 785 g pri 25 oC.']\n",
      "\n"
     ]
    }
   ],
   "source": [
    "for orig, bt in one_pairs[:5]:\n",
    "    print(\"Orig: \", orig)\n",
    "    print(\"BT: \", bt)\n",
    "    print()"
   ]
  },
  {
   "cell_type": "code",
   "execution_count": 28,
   "metadata": {},
   "outputs": [
    {
     "name": "stdout",
     "output_type": "stream",
     "text": [
      "----------------------------------------\n",
      "Score:  0.1\n",
      "Orig:  ['ALKENE PRIDOBIVAMO PREDVSEM Z RAZLIČNIMI ELIMINACIJSKIMI REAKCIJAMI, KI JIH LAHKO POJMUJEMO ZA OBRATNE REAKCIJE ADICIJAM. ČE JE ADICIJA SPONTANA, ELIMINACIJA NE MORE BITI SPONTANA. ZA ELIMINACIJO VODIKOVEGA HALOGENIDA IZ MOLEKULE HALOGENOALKANA UPORABIMO MOČNO BAZO IN POVIŠANO TEMPERATURO. BAZA REAGIRA Z VODIKOVIM IONOM, IN KADAR DELAMO V NEVODNEM MEDIJU, SE IZLOČI TUDI USTREZNA SOL (NATRIJEV ALI KALIJEV HALOGENID). ELIMINACIJO SMO TOREJ POVZROČILI Z VEZAVO OBEH ATOMOV, KI STA SE ELIMINIRALA. VČASIH PA FORMALNO PIŠEMO TAKO REAKCIJO KOT ELIMINACIJO VODIKOVEGA HALOGENIDA.']\n",
      "BT:  ['Za pridobivanje mleka in mlečnih izdelkov uporabljamo močno bazo in povečano tehniko. Za pridobivanje mleka in mlečnih izdelkov uporabljamo močno bazo in razširjen postopek za pridobivanje mleka in mlečnih izdelkov, vendar ne uporabljamo iste metode kot za pridobivanje mleka in mlečnih izdelkov. Uporabljamo enako metodo kot za pridobivanje mleka in mlečnih izdelkov.']\n",
      "\n",
      "Orig:  ['4. RAZGRADNJO OZONA V STRATOSFERI POVZROČAJO ATOMI KLORA. PRI FOTOKEMIČNI RAZGRADNJI KLOROTRIFLUOROMETANA NASTANE EN ATOM KLORA, PRI FOTOKEMIČNI RAZGRADNJI DIFLUORODIKLOROMETANA PA LAHKO NASTANETA DVA ATOMA KLORA. ']\n",
      "BT:  ['V primeru fotogeometrije klorele je v primeru fotogeometrije klorele nastavljen en atom klorele, v primeru fotokemičnega razvoja diflugeometrije pa je določen en atom klore. V primeru fotokemičnega razvoja difluogeometrije se določi en atom klore.']\n",
      "\n",
      "Orig:  ['(MORAM SE POZANIMATI, ALI SE BO RES DALO DOBTI VODO TUDI PRI NAS (Izvem v ponedeljek))']\n",
      "BT:  ['(Vprašati se moram, če bom tudi jaz lahko šla po vodo.)']\n",
      "\n",
      "Orig:  ['Ovim Naputkom želimo Vas upoznati sa našim novim propisom, načinom njihove primjene, a što će vjerujemo Vaš boravak učiniti ugodnijim i sigurnijim.\"']\n",
      "BT:  ['Radi bi vam predstavili naš novi propis, način, kako so narejeni, in želimo vas naučiti vašega boravaka. \"']\n",
      "\n",
      "Orig:  ['\"PRAVLJICA O NOVOLETNI JELKI\" V INTERPRETACIJI KLOVNESE EVE ŠKOFIC MAURER']\n",
      "BT:  ['← Pravilo novega leta v času interpretacije s klovnom']\n",
      "\n",
      "----------------------------------------\n",
      "Score:  0.2\n",
      "Orig:  ['Kot je nekje med oddajo omenila voditeljica nekateri zelo močno štartajo, potem pa obstanejo v leru. Takšna je bila tudi prva njena oddaja. Zagnala se je na vso moč, z vso hitrostjo, nazadnje pa nekako obtičala na mestu.']\n",
      "BT:  ['Kot kažejo gostitelj omenjeno, nekateri začeti zelo težko in nato zatakne v lero, in tako je bil njen prvi nastop, ki je šel na polni plin, vse hitrosti, in potem nekako obtičal.']\n",
      "\n",
      "Orig:  ['Po izgledu ostalih mestlanov so zdaj tudi Celani narodno stražo vstanovili. Uradniki ino gradjani, stari ino mladi, so na jarmenče eksercirat hodili. Velitela narodne straže so si izvolili bili celskega poštnarja Vincenca Gurnika.\" ']\n",
      "BT:  ['Glede na videz ostalih meščanov je bila sedaj postavljena celanska narodna garda, zato so se uradniki in gradijani, stari in mladi, odpravili k jarmanom na prisilno delo.']\n",
      "\n",
      "Orig:  ['se povsod tam, kjer njihove lastnosti ustrezajo zahtevam in kjer so njihovi proizvodni ']\n",
      "BT:  ['se uporabljajo, kadar njihove značilnosti izpolnjujejo zahteve in kadar je njihova proizvodnja']\n",
      "\n",
      "Orig:  ['1. NASTAJANJE KISIKA PRI REAKCIJI LAHKO PREVERIMO ALI DOKAŽEMO S TLEČO LESENO TRSKO.']\n",
      "BT:  ['Prvo prilagoditev kisika v reakciji je mogoče preveriti ali dokazati z lesnimi razpokami.']\n",
      "\n",
      "Orig:  ['NAMEN POSKUSOV JE PREDVSEM PRIKAZ DVEH RAZLIČNIH ALOTROPNIH MODIFIKACIJ ŽVEPLA, KJER NA RAZLIČNO OBLIKO KRISTALOV OBEH MODIFIKACIJ VPLIVA RAZLIČNA PROSTORSKA RAZPOREDITEV MOLEKUL S8 V KRISTALIH SAMIH. POSKUSA ZAHTEVATA KAR PRECEJ ČASA. ZA DIJAKE STA ZANIMIVA PREDVSEM KONČNA PRODUKTA POSKUSOV. UČITELJ NAJ POKAŽE DIJAKOM ŽE PRIPRAVLJENI ALOTROPNI MODIFIKACIJI. ']\n",
      "BT:  ['Namen eksperimentov je predstaviti dve različni alotropni modifikaciji albole, pri čemer se v različni obliki CHRISTAL O SPREMEMINJANJU razlikujeta v prostorski interpretaciji molekul S8 v samem kristjanu.']\n",
      "\n",
      "----------------------------------------\n",
      "Score:  0.30000000000000004\n",
      "Orig:  ['Slovenija je v EU vstopila v družbi še devetih vzhodno- in srednjeevropskih držav: Malte, Cipra, Slovaške, Poljske, Češke, Madžarske, Litve, Latvije in Estonije, v EU pa sta leta 2007 vstopili še Bolgarija in Romunija.']\n",
      "BT:  ['Slovenija se je EU pridružila skupaj z devetimi drugimi vzhodno- in srednjeevropskimi državami: Malta, Ciper, Slovaška, Poljska, Češka, Madžarska, Litva, Latvija in Estonija; Bolgarija in Romunija sta se EU pridružili leta 2007.']\n",
      "\n",
      "Orig:  ['Temeljno tožilstvo je 11. aprila 1990, dan po objavi uradnih volilnih izidov predsednika slovenskega predsedstva, zavrglo ovadbo JLA proti predsedniškemu kandidatu Jožetu Pučniku. Ovaden je bil, ker se je podpisal pod plakat z naslovom Demos za slovensko vojsko, in obtožen, da gre za krnitev ugleda države.']\n",
      "BT:  ['Dne 11. aprila 1990, dan po objavi uradnih rezultatov volitev predsednika slovenskega predsedstva, je Temeljno državno tožilstvo zavrnilo pritožbo, ki jo je JLA vložila zoper predsedniškega kandidata Jožeta Pučnika.']\n",
      "\n",
      "Orig:  ['Konec tedna ste se bojevali z neprijaznimi uradniki, zato imate vseh prepirov že čez glavo. Bogastvo, ki se vam svetlika v daljavi, bo še naprej ostalo nedosegljivo. Morali se boste vdati.']\n",
      "BT:  ['Do konca tedna, ste bili borijo z neprijaznih uradnikov, tako da ste imeli vse te prepire nad glavo. Bogastvo lesketanje v daljavi bo še vedno izven dosega, in boste morali predati.']\n",
      "\n",
      "Orig:  ['Če se je bivši cesar razgalil, da bi koga šokiral, to še ne pomeni, da je podanikom prepovedano obsojati táko nespodobno obnašanje. Ugled institucije cesarja se varuje drugače, ne z nespodobnim obnašanjem - in tudi ne z naknadnim prikrivanjem tega, kaj je prejšnji cesar počel. Morda včasih, še pred Andersenom - danes gotovo ne več.']\n",
      "BT:  ['Če se je nekdanji cesar izpostavil šoku, to še ne pomeni, da podložniki ne smejo obsojati takšnega nespodobnega vedenja, pač pa je ugled cesarjeve ustanove zaščiten z drugimi sredstvi, ne s nespodobnim vedenjem, in tudi s poznejšim prikrivanjem tega, kar je storil nekdanji cesar.']\n",
      "\n",
      "Orig:  ['Roosevelta je začel obsojati precejšen del ameriških gospodarstvenikov, med katerimi so celo nekateri Nobelovi nagrajenci. Konec leta 2002 je v ZDA izšla knjiga, ki jo je napisal John Powell, ekonomist in zgodovinar v Cate Institutu, z zgovornim naslovom Norost Franka Delana Roosevelta Kako je njegov New Deal podaljšal ameriško gospodarsko depresijo.']\n",
      "BT:  [\"Konec leta 2002 je v Združenih državah izšla knjiga Johna Powella, ekonomista in zgodovinarja pri Cate Institute, z zgovornim naslovom Frank Delano Roosevelt's Madness: How His New Deal Extended the American Economic Depression.\"]\n",
      "\n",
      "----------------------------------------\n",
      "Score:  0.4\n",
      "Orig:  ['Ko pritisnemo tipko \"kliči\", bo mobilni telefon med vzpostavljanjem povezave deloval z največjo oddajno močjo. Zato med vzpostavljanjem zveze telefon držimo v roki, in šele ko se vzpostavi zveza, ga približamo k ušesu.']\n",
      "BT:  ['Ko pritisnemo tipko \"klic\", mobilni telefon bo deloval pri maksimalni oddajni moči med povezavo, tako da imamo telefon v roki med povezavo, in samo, ko je povezava vzpostavljena, ga pripeljemo bližje ušesu.']\n",
      "\n",
      "Orig:  ['Leta 1903 je kralj končno s poroko z dvorno damo Drago Mašin povzročil zgražanje vsega ljudstva in tudi tuje diplomacije. Skupina oficirjev je zato kralja in njegovo ženo umorila, na prestol pa so poklicali do tedaj izgnane Karađorđeviće. Pašić je pod novo oblastjo postal predsednik vlade. ']\n",
      "BT:  ['Končno je leta 1903 kraljeva poroka z dvorno damo Dragom Mašinom šokirala ves narod in povzročila tujo diplomacijo. Kralj in njegova žena sta bila umorjena s skupino častnikov, Karađorđević, ki je bil do takrat izgnan, pa je bil poklican na prestol. Pašić je pod novo vlado postal predsednik vlade.']\n",
      "\n",
      "Orig:  ['Spet boste imeli veliko dela, domači pa vam bodo za spremembo hvaležni. Konec tedna bo prijeten in umirjen proti vašim pričakovanjem. Slabo vreme vam namreč ne bo pokvarilo razpoloženja. ']\n",
      "BT:  ['Še enkrat, boste imeli veliko storiti, in vaša družina se vam bo zahvalil za spremembo. Vikend bo prijetno in mirno na vaša pričakovanja, saj slabo vreme ne bo pokvaril vaše razpoloženje.']\n",
      "\n",
      "Orig:  ['Vladarica je centralizirala upravo in odpravila oziroma združila večje število uradov ter tako zmanjšala birokracijo. Uvedla je obvezno osnovno šolanje, država pa je povečala dotacije dunajski univerzi, predvsem za področje medicine. Ustanovljena je bila visoka šola za šolanje predvsem plemiške mladeži za potrebe državne uprave, vojaška akademija in inženirska visoka šola. Delno je na to vplival tudi Franc, ki je imel velik posluh za naravoslovne znanosti. Marija Terezija je bila tudi ustanoviteljica cesarske in kraljevske akademije za znanost in literaturo.']\n",
      "BT:  ['Cesarica centralizirana upravo in odpraviti ali združiti veliko število pisarn, s čimer se zmanjša birokracija. Uvedla je obvezno osnovno šolanje, medtem ko je država povečala štipendije na Univerzi na Dunaju, zlasti na področju medicine. Kolegij za izobraževanje predvsem plemenitih mladih za potrebe državne uprave, vojaška akademija, in inženiring šola je bila ustanovljena. To je delno vplivala Francis, ki je imel močan interes za naravoslovje. Maria Theresa je bil tudi ustanovitelj Imperial in Royal Academy of Science and Literature.']\n",
      "\n",
      "Orig:  ['Delnica Delfija je dejansko vredna precej več. To v nadaljevanju lahko podkrepimo z izračunom, ki izhaja iz bilančnih podatkov za leto 2006 in iz primerjav podobnih podjetij v svetu. ']\n",
      "BT:  ['Dejansko je vrednost delnice Delfije veliko višja, kar je mogoče utemeljiti z izračunom na podlagi podatkov iz bilanc stanja za leto 2006 in primerjavami podobnih podjetij po svetu.']\n",
      "\n",
      "----------------------------------------\n",
      "Score:  0.5\n",
      "Orig:  ['Najprej zato, ker znajo gledalcem, ki se jih je lani ob 4,3 km dolgi progi na cesti iz Ilirske Bistrice do Šembij zbralo krepko prek 10.000, ponuditi še veliko več, pravo ljudsko veselico z obilno gostinsko ponudbo in veliko paše za oči, tudi z modno revijo Janje Zupan in izborom miss Ferrari. Pa seveda zato, ker gre dejansko za velik športni dogodek, na katerem naj bi se letos zbralo rekordno število nastopajočih (prijavljenih je kar 132 dirkačev iz devetih držav), ki se bodo potegovali za točke slovenskega, avstrijskega in hrvaškega prvenstva, prvenstva srednjeevropske cone FIA, mednarodni avtomobilski gorski pokal ter za challenge tekmovanje 1. regije FIA. Slovenski dirkači, med katerimi bodo tudi nekateri najboljši vozniki rallyja na čelu s starim in novim prvakom Tomažem Jemcem, bodo tokrat šele zajemali sapo, kajti Ferrari bo šele druga dirka prvenstva, na prvi (Učka) pa je slabo vreme marsikomu prekrižalo načrte.']\n",
      "BT:  ['Najprej zato, ker znajo gledalcem ponuditi, ki so se lani na poti od Ilirske Bistrice do Šembije zbrali krepko čez 10.000 na 4,3 km dolgi progi, pravo ljudsko zabavo z bogato gostinsko ponudbo in veliko dobrega očesa, tudi z modno revijo Janja Zupan in selekcijo miss Ferrarija. In seveda, ker je to pravzaprav velika športna prireditev, kjer se letos pričakuje rekordno število kolesarjev (je 132 tekmovalcev iz devetih držav), ki se bodo pomerili za točke slovenskega, avstrijskega in hrvaškega prvenstva, FIA Central European Car Cup in izzivalno tekmovanje 1. regije FIA. Slovenski dirkači, med katerimi bodo tudi najboljši rally vozniki na čelu starega Tomaza Ferrarija, novi dirkač pa si bo vzel sapo, ker vreme ne bo zadostovalo (drugi čas za prečenje).']\n",
      "\n",
      "Orig:  ['V dogajanje v zvezi z razpravami o koncentraciji kapitala se je znova vmešal pivovarski baron Boško Šrot. Tokrat se je skril za kulise Pivovarne Laško, saj je v njegovem imenu nenavadno ostra sporočila za javnost pošiljala kar služba za odnose z javnostmi v pivovarni. Tako se je Pivovarna Laško oglasila v četrtek, 5. junija, in ugotovila, da je bila izredna seja DZ namenjena predvsem obračunu SDS s koalicijsko partnerico SLS, pri čemer naj bi bila SDS za orodje uporabila Pivovarno Laško. V samem sporočilu za javnost je čutiti izrazit populistični ton, zelo značilen za brata Šrot, saj je zapisano, da je Janša \"želel izpeljati prikriti menedžerski odkup in tako v svoj poštni nabiralnik spraviti osrednji slovenski časopis Delo\". Po mnenju Pivovarne Laško naj bi bil namen napadov nanjo namenjen prikrivanju dejstev v aferi Patria; ta se bo \"dotaknila najvišjih vrhov in starih znancev orožarsko-vojaških poslov, ki bodo kmalu prilezli iz']\n",
      "BT:  ['Boško Šrot, baron pivovarne, je ponovno posegel v pogovore o koncentraciji kapitala. Tokrat se je skril v zakulisje Pivovarne Laško, saj je služba za odnose z javnostmi v pivovarni v njegovem imenu poslala nenavadno ostro sporočilo javnosti. Tako je v četrtek, 5. junija, prišla v ospredje tudi Pivovarna Laško in ugotovila, da je bila izredna seja DZ namenjena predvsem obračunu SDS s koalicijskim partnerjem SLS, SDS pa naj bi uporabljala orožje Pivovarna Laško kot orodje. V samem sporočilu za javnost je čutiti izrazit populistični ton, ki je zelo značilen za brata Šrotova, saj je zapisano, da \"Jansa želi izpeljati skriti menedžerski odkup in tako slovenski časopis Delo postaviti v svoj poštni nabiralnik \"...Pivovarna Laško se bo kmalu dotaknila vrhuncev in vrhuncev\".']\n",
      "\n",
      "Orig:  ['V Rothenburgu je Trubar začel uresničevati tudi svoje zamisli, da bi protestantizem in njegova načela čim laže predstavil prebivalstvu domačih krajev. Zaradi tega je začel pisati. Prva slovenska knjiga je tako nastala v Rothenburgu, natisnjena pa je bila v Tübingenu. Tako avtor kot tiskar sta si nadela psevdonima, za vsak primer pač. Trubar je tako uporabljal občasno psevdonim Ilirski rodoljub.']\n",
      "BT:  ['V Rothenburgu je Trubar svoje ideje o čim lažjem predstavljanju protestantizma in njegovih principov začel uresničevati tudi v praksi, zato je začel pisati. V Rothenburgu je tako nastala prva slovenska knjiga, ki so jo natisnili v Tübingenu. Tako avtor kot tiskar sta si za vsak slučaj nadela psevdonime. Trubar je tako občasno uporabljal psevdonimno rodoslovje.']\n",
      "\n",
      "Orig:  ['Draguljčki je zbirka miniaturnih darilnih knjižic založbe Exley, vsaka je spravljena v ličen, trden ovitek, obsega 350 strani; format 4 x 5,8 cm. Knjižice vsebujejo citate najodličnejših piscev sveta, ljudske in verske modrosti – drobne dragulje. Izreke spremljajo barvne ilustracije in fotografije. Zen budizem je nastal na Kitajskem pred 1500 leti in spodbuja ljudi k ohranitvi stika z resničnostjo in čudežem življenja. V knjižici Zenovske modrosti so zbrani preprosti in jasni reki velikih zenovskih mislecev, ki govorijo o iskanju zavedanja in ohranitvi stika z resničnim jazom. Zbirka Zakon, čudovit dar opeva zakonske radosti; prijateljstvo in ljubezen, ki združuje dve bitji, ter nenehno moč in podporo, ki si jo dajeta. V njej je izbor najlepših misli o zakonu.']\n",
      "BT:  ['Jewelry je zbirka miniaturnih Exley darilo knjige, vsak set v čeden, trdna naslovnica, s 350 strani; 4 x 5,8 cm v formatu. Knjižnice vsebujejo citate iz najbolj uglednih avtorjev na svetu, ljudske in verske modrosti - drobne dragulje. Izgovori spremljajo barvne ilustracije in fotografije. Zen budizem je bil ustvarjen na Kitajskem pred 1500 leti in spodbuja ljudi, da ostanejo v stiku z realnostjo in čudež življenja. Zen Modrost knjižica zbira preproste in jasne reke velikih mislecev Zen, ki govorijo o iskanju zavesti in ohranjanju stika z resničnim jazom. Zakon zbirka, čudovito darilo zakonskega veselja, prijateljstva in ljubezni, ki združuje dve bitji, in stalno moč in podporo, ki jih dajejo drug drugemu.']\n",
      "\n",
      "Orig:  ['V tem času se tudi v naših kinematografih vrti filmska različica Seksa v mestu. Čeprav najbolj znana televizijska poznavalka seksa Carrie Bradshaw razglablja le o razmerjih med moškimi in ženskami ter o različnih posteljnih vragolijah, je njena resnična podoba v telesu Sarah Jessice Parker veliko bolj sramežljiva. Igralka je namreč zatrdila, da ni denarja na tem svetu, ki bi jo premamil, da bi odvrgla vsa oblačila. “V bistvu nisem zelo ponosna na svoj videz,” je iskreno priznala zvezdnica in dodala, da se ne bi branila kakšnega kilograma več, kar pa – čeprav rada kuha in še raje je – ostaja samo utopija. ']\n",
      "BT:  ['V tem času so naši kinematografi prikazujejo tudi filmsko različico Sex in the City. Čeprav je najbolj znana TV sex poznavalec Carrie Bradshaw samo govori o odnosih med moškimi in ženskami in različnih posteljo vragolije, njena resnična podoba v telesu Sarah Jessica Parker je veliko bolj sramežljiva. Igralka je trdil, da ni denarja na svetu, da bi jo nagnili, da bi vrgel proč vse svoje obleke. \"Pravzaprav nisem zelo ponosen na svoj videz,\" zvezda odkrito priznal, in dodal, da ona ne bi sama braniti funt več, ki je, čeprav ona ima rad kuhati in jesti, ostaja le utopija.']\n",
      "\n",
      "----------------------------------------\n",
      "Score:  0.6\n",
      "Orig:  ['Amsterdam - Le nekaj mesecev potem, ko so nizozemski hitrostni drsalci na ZOI v Naganu osvojili petih zlatih kolajn, sta tudi dvakratni olimpijski zmagovalec Gianni Romme in \"srebrni\" Bob de Jong napovedala svoje slovo iz reprezentance, ki jo vodi Henk Gemser.']\n",
      "BT:  ['Amsterdam - Le nekaj mesecev po tem, ko so nizozemski hitrostni drsalci na ZOO v Naganu osvojili pet zlatih medalj, sta se dvakratni olimpijski prvak Gianni Romme in \"srebrni\" Bob de Jong poslovila od ekipe pod vodstvom Henka Gemserja.']\n",
      "\n",
      "Orig:  ['Izidi - fantje, do 10 let: Rok Hržica (ima 3,5 točke) : Melkumisan (Arm) remi; do 12 let: Jure Borišek (2,5) : Jeitz (Lux) 1:0, Klemen Četina (2,5) : Potašnik (Izr) 0:1; do 14: Aleš Lazar (3,5) : Hanley (Ang) 1:0, Mihiliadis (Grč) : Blaž Bratovič (3) 0:1, Borut Kukovec (2,5) : Babamusta (Alb) 1:0; do 16 let: Kunin (Rus) : Miha Gomboc (2) 1:0, Tomić (BiH) : Matej Šebenik (3) 0:1; do18 let: Halkias (Grč) : Uroš Kavčič (3) 1:0, Falkenberg (Bel) : Žvan Žiga (1,5) 0:1; deklice - do14 let: Bonnyfous (Fra) : Veronika Hari (3) 1:0; do 16 let: Neda Tompa (2,5) : Masip (Špa) 0:1; do 18 let: Batite (Lit) : Darja Kapš (4,5) 0:1. A. D.']\n",
      "BT:  ['Rok Hržica (3,5 točke); Melkumisan (roka); remi do 12 let; Jure Borišek (2,5); Jeitz (lux 1: 0); Klemen Četina (2,5): Potasnik (Ezr) 0; 1; do 14 let Aleš Lazar (3,5) Hanley () Ang 1: 0, Mihiliadis (Grč::::: Blaž Bratovič (::: 0) 1 Borut Kukovec (: 2,5) Babamusta (Ablusta) 1) 0 do 16 let Vladimir Kunin Belin (Rusovec); Miha Goc (2) 0) Tomić (3 1 do 18 let: Ževanovan:: 3 leta::::::: 2: 2: 2: 2: 1 Bašašak (A. 5) 0 do 14 let; Mašaka Mašaka (1) 0 do 4']\n",
      "\n",
      "Orig:  ['O pogovorih in nekaterih sklepih so predsedujoči Svetu EU Janez Janša, ameriški predsednik George Bush in predsednik evropske komisije José Manuel Barroso ob koncu vrha na tiskovni konferenci obvestili tudi javnost. Ena izmed pomembnih skupnih izjav je po njihovih besedah nedvomno ta, v kateri so EU in ZDA Iranu zagrozile z novimi sankcijami, če ne bo izpolnil vseh mednarodnih obveznosti v zvezi z jedrskim programom. Bush je tudi podprl misijo visokega zunanjepolitičnega predstavnika unije Javierja Solane v Iranu, ki naj bi poskušal doseči, da bi se Teheran odpovedal bogatenju urana. \"Ni boljše rešitve, kot da se Iranu pove, da obstajajo še druge možnosti kot te, ki so doslej vodile v izolacijo,\" je dejal.']\n",
      "BT:  ['Predsednik Sveta EU Janez Janša, predsednik Združenih držav Amerike George Bush in predsednik Evropske komisije José Manuel Barroso so ob koncu vrha javnost obvestili tudi o pogovorih in nekaterih sklepih. Ena od pomembnih skupnih izjav je bila nedvomno ta, da EU in Združene države grozijo Iranu z novimi sankcijami, če ne bo izpolnil vseh svojih mednarodnih obveznosti v zvezi s svojim jedrskim programom. Bush je podprl tudi misijo visokega predstavnika Unije za zunanje zadeve Javierja Solane, ki je poskušala doseči, da se Teheran odpove bogatenju urana. \"Ni boljše rešitve, kot je reči Iranu, da obstajajo druge možnosti kot tiste, ki so do zdaj privedle do izolacije,\"']\n",
      "\n",
      "Orig:  ['George Bush: \"Med Evropo in Ameriko bodo vedno obstajale razlike pri reševanju določenih vprašanj, a to ni nič slabega, dokler nas razlike trajno ne ločijo, prepričan pa sem, da se to ne bo zgodilo.\"']\n",
      "BT:  ['George Bush: \"pri reševanju nekaterih vprašanj bodo vedno obstajale razlike med Evropo in Ameriko, vendar to ni slabo, dokler nas te razlike trajno ne razdelijo, vendar sem prepričan, da se to ne bo zgodilo.\"']\n",
      "\n",
      "Orig:  ['Dušan Mramor, ekonomist, profesor, finančni minister: od 1994 do 1999 je bil predsednik strokovnega sveta ATVP; to so bili časi, ko so se delnice pidov prek terminskih pogodb prodajale za deset odstotkov nominalne vrednosti, ko so direktorji zavlačevali s kotiranjem delnic svojega podjetja na borzi, da so jih lahko na sivem trgu od svojih zaposlenih kupovali z diskonti, ko je prišlo do prvih pomembnih navzkrižnih lastništev, partnerstev in povezav, tudi parkirišč. ATVP ni predlagala zakonodaje, ki bi to preprečila. ']\n",
      "BT:  ['Dušan Mramor, ekonomist, profesor, finančni minister. od leta 1994 do leta 1999 je bil predsednik strokovnega odbora ATVP; to so bili časi, ko so bile delnice PID prek terminskih pogodb prodane za deset odstotkov nominalne vrednosti, ko so direktorji odložili kotacijo delnic svojega podjetja na borzi, tako da so jih lahko kupili od svojih zaposlenih na sivem trgu po popustih, ko so se pojavili prvi pomembni navzkrižni lastniki, partnerstva in povezave, vključno s parkirišči.']\n",
      "\n",
      "----------------------------------------\n",
      "Score:  0.7000000000000001\n",
      "Orig:  ['\"S trenerjem sva načrtovala uvrstitev v najboljšo osmerico. Tudi zato, ker mi je žreb naklonil zelo težke tekmice,\" se je prisrčno razburjena Petra veselila nenadejanega, zato pa toliko bolj sladkega uspeha v močni konkurenci 26 tekmovalk iz prav toliko držav v kategoriji do 52 kg. Trener Marjan Fabjan, ta naš bivši odlični judoist, je kajpak žarel od sreče, a je bil z mislimi že pri današnjem nastopu Urške Žolnir in Francija Špesa (do 60 kg) iz Ilirske Bistrice.']\n",
      "BT:  ['\"S trenerjem sva načrtovala uvrstitev med najboljših osem. Tudi zato, ker mi je žreb dal zelo težke tekmece,\" je bila Petra zelo navdušena nad nepričakovanim, zato pa je bil najlepši uspeh v močni konkurenci 26 tekmovalcev iz toliko držav v kategoriji do 52 kg. Trener Marjan Fabjan, naš nekdanji odlični judoist, je seveda žarel od sreče, vendar so njegove misli že ob današnjem nastopu Urške Žolnir in Franceta Špesa (do 60 kg) iz Ilirske Bistrice.']\n",
      "\n",
      "Orig:  ['Današnja zaključna preizkušnja 47. novoletne skakalne turneje na 120-metrski napravi v skakalnem centru legendarnega (pokojnega) Seppa-Bubija Bradla, ki bo hkrati generalka za februarsko SP, bo torej predvsem psihološka vojna trojice vodilnih skakalcev različnih značilnosti.']\n",
      "BT:  ['Današnja zadnja preizkušnja 47. novoletne turneje v smučarskih skokih na 120 metrov dolgem skakalnem centru legendarnega () pokojnega Seppa-Bubija Bradla, ki bo hkrati tudi generalka za februarsko SP, bo torej predvsem psihološko bojevanje treh vodilnih skakalcev z različnimi lastnostmi.']\n",
      "\n",
      "Orig:  ['Manj eleganten telemark in vsaj v začetku leta ne povsem v isti ravnini ležeče smuči, sta drobni slabosti, zaradi katerih bi moral Schmitt oba tekmeca v obeh skokih skupaj preskočiti za več kot 7 metrov, kolikor bi bilo sicer dovolj, da bi nadomestil zaostanek za njima (12,3 oz. 11,9 točke). Z odličnim izkoristkom na odkočnem mostu in briljantno tehniko letenja na tako veliki skakalnici njegov cilj nikakor ni neuresničljiv. Ne gre pa v naprej izključiti tudi vsakovrstnih presenečenj.']\n",
      "BT:  ['Manj elegantna telemark in, vsaj v začetku leta, ne v isti ravnini smuči, so majhne pomanjkljivosti, zaradi katerih bi Schmitt moral skočiti dva tekmovalca v obeh skokih skupaj za več kot 7 metrov, saj bi bilo sicer dovolj, da bi nadomestili vrzel za njimi (12,3 ali 11,9 točke). Z odlično učinkovitostjo na štartnem mostu in briljantno tehniko letenja na tako veliki skakalnici, njegov cilj nikakor ni nerealen, vendar vnaprej ni mogoče izključiti kakršnih koli presenečenj']\n",
      "\n",
      "Orig:  ['\"Pekočemu občutku v pljučih dan pred tekmo niti nisem posvečala pretirane pozornosti, vendar se je danes dopoldne vse skupaj razvilo v virusno obolenje,\" je bila razočarana Lačnova, ki je namesto v smučini dan preživela v postelji, tako da je negotov tudi njen nastop na naslednji tekmi konec tedna v Novem Mestu na Češkem. Tam naj bi nastopili še Matej Soklič, Joško Petkovšek, Vasja Rupnik in Petra Majdič. Andreja Mali se je po odličnih nastopih v šprintu posvetila pripravam na svetovno prvenstvo in se bo z najboljšimi spet srečala šele sredi februarja v Seefeldu.']\n",
      "BT:  ['\"Niti nisem posvečal preveč pozornosti pekočemu občutku v pljučih dan pred tekmo, danes zjutraj pa se je vse skupaj spremenilo v virusno bolezen,\" je povedala Lačnova, ki je dan preživela v postelji namesto na smučanju, zato je njen nastop na naslednji dirki konec tedna v Novem mestu na Češkem negotov. Matej Soklič, Joško Petkovšek, Vasja Rupnik in Petra Majdič bodo tam nastopili. Andreja Mali se je po izvrstnih šprinterskih nastopih osredotočila na priprave na svetovni pokal in bo najboljše ponovno srečala šele sredi februarja v Seefeldu.']\n",
      "\n",
      "Orig:  ['Kasneje se je ameriški predsednik srečal tudi s predsedujočim Svetu EU, premierjem Janezom Janšo. Po besedah premierjevega tiskovnega predstavnika Roka Srakarja sta se pogovarjala predvsem o gospodarskih vprašanjih in poudarila krepitev gospodarskega sodelovanja med državama. Ameriški predsednik je pohvalil tudi politični napredek, ki ga je Slovenija dosegla od njegovega zadnjega obiska junija 2001; Slovenija je medtem postala članica zveze Nato in Evropske unije, ki ji zdaj že predseduje. Bush je posebej izpostavil lepote Slovenije in turistične priložnosti. Poudaril je tudi pomen \"transformacijske moči demokracije in svobode\" ter pri tem izpostavil Janšo, ki je bil pred 20 leti politični zapornik, danes pa vodi državo in EU.']\n",
      "BT:  ['Pozneje se je predsednik Združenih držav srečal tudi s predsednikom Evropske unije, predsednikom vlade Janezom Janšo. Po besedah predsednika vlade Roka Srakarja sta govorila predvsem o gospodarskih vprašanjih in poudarila krepitev gospodarskega sodelovanja med državama. Predsednik je pohvalil tudi politični napredek, ki ga je Slovenija dosegla od svojega zadnjega obiska junija 2001; Slovenija je od takrat postala članica Nata in Evropske unije, ki je zdaj na čelu predsedovanja. Bush je poudaril lepoto Slovenije in priložnosti za turizem. Poudaril je tudi pomen \"transformacijske moči demokracije in svobode \"in izpostavil Janšo, ki je bil pred 20 leti politični zapornik, zdaj pa je politični zapornik.']\n",
      "\n",
      "----------------------------------------\n",
      "Score:  0.8\n",
      "Orig:  ['Ljubljana - Na finalnem turnirju NLB za leto 1998 je zmagal Leon Mazi 8,5 pred Šifrerjem, Podlesnikom in Mohrom po 6,5 Barletom, Pavasovičem, Šolnom in Črepanom po 6 itd. B. R.']\n",
      "BT:  ['Ljubljana - Leon Mazi je na finalnem turnirju NLB za leto 1998 osvojil 8.5 pred Šifrerjem, Podlesnikom in Mohrom po 6.5 Barletu, Pavasoviču, Šolnu in Črepanu po 6 itd. B. R.']\n",
      "\n",
      "Orig:  ['Ramenskoe - Kljub odsotnosti Bjørna Daehlieja in Thomasa Alsgaarda ni bil pogled na norveški tekaški tabor po včerajšnji tekmi za svetovni pokal nič drugačen kot v preteklih tednih. V tekih v klasičnem slogu na 10 in 15 km sta namreč Bente Martinsen in Espen Bjervig dosegla kar dvojno zmago, popolno zmagoslavje Skandinavcev pa je preprečila le domačinka Kristina Šmigun (3.). Žal je sreča že dan pred nastopom obrnila hrbet edini slovenski tekmovalki Nataši Lačen.']\n",
      "BT:  ['Ramenskoe - Kljub odsotnosti Bjørna Daehlieja in Thomasa Alsgaarda pogled na norveški tekaški tabor po včerajšnji tekmi svetovnega pokala ni bil nič drugačen kot v prejšnjih tednih. V klasičnem teku na 10 in 15 km sta Bente Martinsen in Espen Bjervig dosegla dvojno zmago, popolno zmago skandinavskega naroda pa je preprečila le domačinka Kristina Šmigun (3.). Žal je dan pred nastopom sreča obrnila hrbet edini slovenski tekmovalki Nataši Lachen.']\n",
      "\n",
      "Orig:  ['Sicer pa se je svojevrsten paradoks zgodil pretekli četrtek. Kar na lepem so se s sporočilom za javnost oglasili iz Pivovarne Laško in zapisali, da jih je Janša uporabil za obračun s SLS. Boško Šrot (oziroma pivovarna) se je torej poistovetil s SLS, čeprav o tem na seji ali med politiki nikoli ni bilo govora. Ve se namreč, da je bil Boško Šrot dolgoletni član Pahorjeve SD. V sporočilu za javnost je torej zapisal, da v Pivovarni Laško ocenjujejo, da je bila izredna seja namenjena le obračunavanju predsednika vlade in stranke SDS s stranko SLS, pri čemer je kot orodje uporabila Pivovarno Laško. Napadi na Pivovarno Laško naj bi bili neupravičeni in nedvomno namenjeni prikrivanju afere Patria. ']\n",
      "BT:  ['Sicer pa se je prejšnji četrtek zgodil svojevrsten paradoks. Kar naenkrat so iz Pivovarne Laško izdali izjavo za javnost, v kateri piše, da jih je Janša uporabil za poravnavo s SLS. Boško Šrot (oziroma pivovarna) se je sicer identificiral s SLS, čeprav se o tem na sestanku ali med politiki ni nikoli govorilo. Znano je, da je bil Boško Šrot dolgoletni član Pahorjeve SD. V sporočilu za javnost je zapisal, da v Pivovarni Laško ocenjujejo, da je bila izredna seja namenjena zgolj računovodstvu predsednika vlade in stranke SDS s stranko SLS Pivovarna Laško. Napadi na Pivovarno Laško naj bi bili neupravičeni in nedvomno namenjeni prikrivanju afere Patria.']\n",
      "\n",
      "Orig:  ['Rodil se je leta 1962. Po študiju novinarstva je v osemdesetih letih deloval kot novinar, zlasti pri tedniku Mladina, kjer je bil urednik za notranjo politiko. Leta 1988 je bil eden od obsojencev četverice JBTZ. Kasneje se je posvetil založništvu in knjigotrštvu. Sedaj deluje kot direktor založbe Karantanija. Je poročen in oče štirih otrok.']\n",
      "BT:  ['Rojen leta 1962, po študiju novinarstva, je v osemdesetih letih prejšnjega stoletja delal kot novinar, predvsem za tednik Mladina, kjer je bil urednik za notranjo politiko. Leta 1988 je bil eden od obsojencev kvarteta JBTZ. Kasneje se je posvetil založništvu in knjigotrštvu. Danes dela kot direktor založbe Karantanija. Je poročen in ima štiri otroke.']\n",
      "\n",
      "Orig:  ['Kot smo v tedniku že pisali, je predsednik Komisije za preprečevanje korupcije Drago Kos v zvezi s pismom o nameri za razvoj oklepnikov 8X8, ki naj bi ga v času prejšnje vlade podpisala ministrstvo za obrambo in skupina Viator & Vektor, dejal, da \"pismo o nameri ni zaveza, da bo posel res sklenjen\", zato po njegovo ne moremo govoriti o korupciji. Je pa njegova komisija ugotovila, da je bil ponudnik oklepnih vozil 8X8 Rotis favoriziran v primerjavi z Viator & Vektorjem. Kot je pojasnil Kos, je komisija v 10 primerih ugotovila, da je bila odločitev ministrstva za obrambo \"izrazito v korist enega ponudnika\".']\n",
      "BT:  ['Kot smo že pisali v tedniku, je predsednik Komisije za preprečevanje korupcije, Drago Kos, v zvezi s pismom o nameri za razvoj oklepnih vozil 8X8, ki naj bi ga med prejšnjo vlado podpisala Ministrstvo za obrambo in skupina Viator & Vektor, dejal, da \"pismo o nameri ni zaveza, da bo posel res sklenjen \", zato misli, da o korupciji ne moremo govoriti. Vendar pa je njegova komisija ugotovila, da je bil 8X8 Rotis v primerjavi z Viator & Vektor bolj priljubljen. Kot je pojasnil Kos, je komisija v 10 primerih ugotovila, da je bila odločitev Ministrstva za obrambo očitno v']\n",
      "\n",
      "----------------------------------------\n",
      "Score:  0.9\n",
      "Orig:  ['Izidi: 1. kolo - skupina A: ZRJ - Grčija 83:72, Francija - Hrvaška 74:57, Italija - Nemčija 56:55; skupina B: Slovenija - Izrael 74:63, Turčija - Litva 59:56, Španija - Latvija 102:72; 2. kolo - skupina A: ZRJ : Hrvaška 85:64 (37:26), Nemčija : Grčija 69:64 (27:34), Italija : Francija večerna tekma; skupina B: Slovenija : Litva 77:59 (43:32), Španija : Izrael 64: 52 (33:26), Turčija : Latvija 63:59 (34:24).']\n",
      "BT:  [': Rezultati 1 kolo - skupina A: FRY - Grčija 83: 72, Francija - Hrvaška 74: 57, Italija - Nemčija 56; skupina B: Slovenija - Izrael 74: 63, Turčija - Litva 59: 56, Španija - Latvija 102: 72 2. kolo - skupina A FRY Hrvaška 85; 64 (37: 26), Nemčija Grčija 69 64 (27) 34, Italija Francija večerna tekma; skupina B: Slovenija: 77: 59 (43: 32:), Španija: Izrael: 64: 52 (33: 26) Turčija, Latvija: 63 59 (34: 24) 59)']\n",
      "\n",
      "Orig:  ['Tekmovanje se bo pravzaprav začelo že danes z uradnim treningom vseh nastopajočih, zares pa bo šlo s petek in soboto, ko bodo tekmovalci iz vseh slovenskih klubov merili moči oba dneva od 8. do 20. ure.']\n",
      "BT:  ['Tekmovanje se bo pravzaprav začelo danes z uradnim treningom vseh nastopajočih, zares pa bo šlo s petkom in soboto, ko bodo tekmovalci iz vseh slovenskih klubov merili svojo moč oba dni od 8. do 20. ure.']\n",
      "\n",
      "Orig:  ['Navajamo nekaj primerov cen vrtcev v drugih občinah (vse primerjave so za 8. plačilni razred): v občini Ig je primerljivo najvišje plačilo staršev 344 evrov, v Kranju 305 evrov, v Novi Gorici 361, v Celju 295, Slovenskih Konjicah 324, Grosupljem 360, Novem mestu 323 in v Dolu pri Ljubljani 333 evrov; samo v Mariboru je plačilo nižje, in sicer 260 evrov. Iz tega je povsem razvidno, da so cene v vrtcih v Ljubljani za najmanj enak javni program med najnižjimi v državi. ']\n",
      "BT:  ['Tukaj je nekaj primerov cen vrtcev v drugih občinah (vse primerjave so za 8. plačni razred:) v občini Ig, maksimalno plačilo staršev je primerljivo 344 evrov, v Kranju 305 evrov, v Novi Gorici 361, v Celju 295, Slovenskih Konjicah 324, Grosuplje 360, Novo mesto 323 in v Dolu pri Ljubljani 333 evrov; samo v Mariboru je plačilo nižje, in sicer 260 evrov. Iz tega je razvidno, da so cene v vrtcih v Ljubljani za vsaj enak javni program med najnižjimi']\n",
      "\n",
      "Orig:  ['Založba Didakta iz Radovljice je izdala knjigo Astronomija na Slovenskem in slovenski astronomi na tujem (12.–21. stoletje), ki sta jo napisala prodorna raziskovalca in publicista Stanislav Južnič in Marijan Prosen.']\n",
      "BT:  ['Didakta iz Radovljice je izdala knjigo Astronomija na Slovenskem in slovenski astronomi v tujini (12.-21. stoletje), ki sta jo napisala ugledna raziskovalca in publicista Stanislav Južnič in Marijan Prosen.']\n",
      "\n",
      "Orig:  ['Helena Javornik (Betnava Maribor) in Roman Kejžar (Mass Ljubljana) sta v soboto v Domžalah zmagala v konkurenci okrog 100 tekačev na odprtem atletskem prvenstvu Slovenije v teku na 10.000 metrov – Javornikova s časom 34:58,09, Kejžar pa s 30:38,78. ']\n",
      "BT:  ['Helena Javornik (Betnava Maribor) in Roman Kejžar (Mass Ljubljana) sta v soboto v Domžalah zmagala v konkurenci približno 100 tekačev na Odprtem prvenstvu Slovenije v atletiki v teku na 10.000 metrov - Javornikova s časom 34: 58.09 in Kejžar s časom 30: 38.78.']\n",
      "\n"
     ]
    }
   ],
   "source": [
    "for step in np.arange(0.1, 1, 0.1):\n",
    "    score_ix = np.nonzero(np.abs(scores - step) < 0.05)\n",
    "\n",
    "    score_pairs = np.array([[sentences_np[score_ix], paraps_np[score_ix]]]).T\n",
    "\n",
    "    print(\"----------------------------------------\")\n",
    "    print(\"Score: \", step)\n",
    "    for orig, bt in score_pairs[:5]:\n",
    "        print(\"Orig: \", orig)\n",
    "        print(\"BT: \", bt)\n",
    "        print()"
   ]
  },
  {
   "cell_type": "code",
   "execution_count": 35,
   "metadata": {},
   "outputs": [
    {
     "name": "stdout",
     "output_type": "stream",
     "text": [
      "27431\n"
     ]
    }
   ],
   "source": [
    "t_low = 0.4\n",
    "t_high = 0.75\n",
    "\n",
    "print(np.count_nonzero((scores > t_low) & (scores < t_high)))"
   ]
  },
  {
   "cell_type": "code",
   "execution_count": 49,
   "metadata": {},
   "outputs": [],
   "source": [
    "import sys\n",
    "import importlib\n",
    "importlib.reload(sys.modules['eval_backend_handler'])\n",
    "\n",
    "sys.path.append(\"../\")\n",
    "\n",
    "import eval_backend_handler as ebh\n",
    "\n",
    "df = ebh.get_score_pd()"
   ]
  },
  {
   "cell_type": "code",
   "execution_count": 50,
   "metadata": {},
   "outputs": [
    {
     "name": "stdout",
     "output_type": "stream",
     "text": [
      "TextSchema(textId='uskladitev-0', originalText='\"Ima me, da bi te naskočil s sovražnim prevzemom,\" reče rjavolasec v Kenneth Coleu.', paraphrasedText='\"me mika, da bi skočil na vas s sovražnim prevzemom,\" pravi rjavolaska v Kenneth Cole.')\n",
      "          textId scorerId  appropriateness  fluency  diversity\n",
      "15  uskladitev-0    joze2              5.0      5.0        5.0\n",
      "16  uskladitev-0   ogjoze              8.0      9.0        3.0\n",
      "18  uskladitev-0     joze              7.0      8.5        8.0\n",
      "-------------------------------------------------\n",
      "TextSchema(textId='uskladitev-1', originalText='Kako naj pozabim gomilo, kjer tvoje plemenito spi srce, ki tako iskreno me je ljubilo vse do zadnjega je dne.', paraphrasedText='Kako bi lahko pozabil gomilo, kjer je vaš plemeniti spi srce, ki je tako iskreno me je ljubil do zadnjega dne.')\n",
      "          textId scorerId  appropriateness  fluency  diversity\n",
      "17  uskladitev-1    joze2              3.0      2.0        1.0\n",
      "19  uskladitev-1   ogjoze              8.0      6.5        5.0\n",
      "22  uskladitev-1     joze              9.0      4.5        3.0\n",
      "-------------------------------------------------\n",
      "TextSchema(textId='uskladitev-2', originalText='Na igrišču Pod Štucljem bodo v soboto zvečer na svoj račun prišli vsi tisti, ki se radi zabavajo, obljubljajo organizatorji. Za glasbo in jedačo bo poskrbljeno.', paraphrasedText='V soboto zvečer bodo vsi tisti, ki se radi zabavajo, prišli na svoj račun na igrišče Pod Štuceljem, obljubljajo organizatorji.')\n",
      "          textId scorerId  appropriateness  fluency  diversity\n",
      "20  uskladitev-2   ogjoze              6.0     10.0        9.0\n",
      "21  uskladitev-2    joze2              6.0      5.0        2.0\n",
      "27  uskladitev-2     joze              5.0      8.0        7.0\n",
      "-------------------------------------------------\n",
      "TextSchema(textId='uskladitev-3', originalText='Andrej Šifrer je praznovanje 25-letnice proslavil še z novima albuma', paraphrasedText='Andrej Šifrer praznuje 25. obletnico z dvema novima albumoma')\n",
      "          textId scorerId  appropriateness  fluency  diversity\n",
      "23  uskladitev-3   ogjoze             10.0     10.0        8.0\n",
      "26  uskladitev-3    joze2              3.0      7.0        3.0\n",
      "32  uskladitev-3     joze             10.0      9.0       10.0\n",
      "-------------------------------------------------\n",
      "TextSchema(textId='uskladitev-4', originalText='- Pravilnik o evidenci dejanske rabe kmetijskih in gozdnih zemljišč', paraphrasedText='Pravilnik o dejanski rabi kmetijskih in gozdnih zemljišč')\n",
      "          textId scorerId  appropriateness  fluency  diversity\n",
      "24  uskladitev-4   ogjoze             10.0     10.0        2.0\n",
      "28  uskladitev-4    joze2              5.0      7.0        2.0\n",
      "35  uskladitev-4     joze              5.5      9.0        6.0\n",
      "-------------------------------------------------\n",
      "TextSchema(textId='uskladitev-5', originalText='Tako je tudi sodeč po cenah, ki se pri nas gibljejo med 800 1500 evrov.', paraphrasedText='To je tudi po cenah, ki se v Sloveniji gibljejo med 800 EUR 1500.')\n",
      "          textId scorerId  appropriateness  fluency  diversity\n",
      "25  uskladitev-5   ogjoze             10.0     10.0        2.0\n",
      "30  uskladitev-5    joze2              6.0      8.0        5.0\n",
      "36  uskladitev-5     joze              9.0      3.5        8.5\n",
      "-------------------------------------------------\n",
      "TextSchema(textId='uskladitev-6', originalText='Gospodarske družbe bodo plačevale namesto zdajšnjega 25-odstotnega 23-odstotni osnovni davek, ki se bo do leta 2010 znižal na 20-odstotnega.', paraphrasedText='Podjetja bodo namesto sedanjih 25% plačevala osnovni 23-odstotni davek, ki bo do leta 2010 zmanjšan na 20%.')\n",
      "          textId scorerId  appropriateness  fluency  diversity\n",
      "29  uskladitev-6   ogjoze             10.0     10.0        8.0\n",
      "33  uskladitev-6    joze2              8.0      8.0        7.0\n",
      "39  uskladitev-6     joze              9.0      9.0        9.0\n",
      "-------------------------------------------------\n",
      "TextSchema(textId='uskladitev-7', originalText='slika 78, 20.stoletje v zgodov. virih,besedi in sliki: str.38: članek iz Slov. naroda ', paraphrasedText='foto 78, 20. stoletje v zgodnjih virih, besedah in slikah: p.38: članek slovenskega naroda')\n",
      "          textId scorerId  appropriateness  fluency  diversity\n",
      "31  uskladitev-7   ogjoze              6.0      6.5        2.0\n",
      "38  uskladitev-7    joze2              3.0      3.0        1.5\n",
      "42  uskladitev-7     joze              3.0      7.0        8.0\n",
      "-------------------------------------------------\n",
      "TextSchema(textId='uskladitev-8', originalText='Polpete z bučkami + foto (polpete + solato – oboje je v mapi)', paraphrasedText='Mesne kroglice z bučkami + fotografija (kobilice + solata - oboje je v mapi)')\n",
      "          textId scorerId  appropriateness  fluency  diversity\n",
      "34  uskladitev-8   ogjoze              2.0      6.5        2.5\n",
      "40  uskladitev-8    joze2              4.0      4.0        1.0\n",
      "43  uskladitev-8     joze              4.0      9.0        5.0\n",
      "-------------------------------------------------\n",
      "TextSchema(textId='uskladitev-9', originalText='Večdnevna božja služba raziskovalcev, ki jo je plačal religiozni milijarder in misijonar John Templeton, je zbudila v ameriških medijih veliko pozornost. Znanost odkriva boga, je zapisal Newsweek.', paraphrasedText='Dolgoročna božanska služba raziskovalcev, ki jo je financiral verski milijarder in misijonar John Templeton, je v ameriških občilih pritegnila veliko pozornosti.')\n",
      "          textId scorerId  appropriateness  fluency  diversity\n",
      "37  uskladitev-9   ogjoze              8.5     10.0        7.5\n",
      "41  uskladitev-9    joze2              4.0      4.0        1.0\n",
      "44  uskladitev-9    joze2              8.0      8.0        5.0\n",
      "45  uskladitev-9     joze              3.0      9.0        8.0\n",
      "-------------------------------------------------\n"
     ]
    }
   ],
   "source": [
    "id = \"uskladitev\"\n",
    "for i in range(10):\n",
    "    print(ebh.get_text(f\"{id}-{i}\").originalText)\n",
    "    print(ebh.get_text(f\"{id}-{i}\").paraphrasedText)\n",
    "    print(df[df['textId'] == f\"{id}-{i}\"]) \n",
    "    print(\"-------------------------------------------------\")  "
   ]
  }
 ],
 "metadata": {
  "kernelspec": {
   "display_name": "Python 3",
   "language": "python",
   "name": "python3"
  },
  "language_info": {
   "codemirror_mode": {
    "name": "ipython",
    "version": 3
   },
   "file_extension": ".py",
   "mimetype": "text/x-python",
   "name": "python",
   "nbconvert_exporter": "python",
   "pygments_lexer": "ipython3",
   "version": "3.8.10"
  }
 },
 "nbformat": 4,
 "nbformat_minor": 0
}
